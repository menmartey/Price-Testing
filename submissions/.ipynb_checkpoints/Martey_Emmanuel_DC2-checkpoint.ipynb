{
 "cells": [
  {
   "cell_type": "markdown",
   "metadata": {},
   "source": [
    "# Goal"
   ]
  },
  {
   "cell_type": "markdown",
   "metadata": {},
   "source": [
    "Pricing optimization is, non surprisingly, another area where data science can provide huge value.\n",
    "\n",
    "The goal here is to evaluate whether a pricing test running on the site has been successful. As always, you should focus on user segmentation and provide insights about segments who behave differently as well as any other insights you might find."
   ]
  },
  {
   "cell_type": "markdown",
   "metadata": {},
   "source": [
    "# Challenge Description"
   ]
  },
  {
   "cell_type": "markdown",
   "metadata": {},
   "source": [
    "Company XYZ sells a software for $\\$39$. Since revenue has been flat for some time, the VP of Product has decided to run a test increasing the price. She hopes that this would increase revenue. In the experiment, 66\\% of the users have seen the old price ($\\$39$), while a random sample of 33\\% users a higher price ($\\$59$).\n",
    "\n",
    "The test has been running for some time and the VP of Product is interested in understanding how it went and whether it would make sense to increase the price for all the users. Especially she asked you the following questions:\n",
    "\n",
    "1. Should the company sell its software for $\\$39$ or $\\$59$?\n",
    "\n",
    "2. The VP of Product is interested in having a holistic view into user behavior, especially focusing on actionable insights that might increase conversion rate. What are your main findings looking at the data?\n",
    "\n",
    "3. The VP of Product feels that the test has been running for too long and she should have been able to get statistically significant results in a shorter time. Do you agree with her intuition? After how many days would you have stopped the test? Please, explain why."
   ]
  },
  {
   "cell_type": "markdown",
   "metadata": {},
   "source": [
    "# Price Testing"
   ]
  },
  {
   "cell_type": "code",
   "execution_count": 1,
   "metadata": {},
   "outputs": [],
   "source": [
    "# Import libraries\n",
    "\n",
    "import pandas as pd\n",
    "import numpy as np\n",
    "import matplotlib.pyplot as plt\n",
    "import seaborn as sns\n",
    "%matplotlib inline"
   ]
  },
  {
   "cell_type": "markdown",
   "metadata": {},
   "source": [
    "## Ingest/load the data"
   ]
  },
  {
   "cell_type": "code",
   "execution_count": 2,
   "metadata": {
    "scrolled": true
   },
   "outputs": [
    {
     "data": {
      "text/html": [
       "<div>\n",
       "<style scoped>\n",
       "    .dataframe tbody tr th:only-of-type {\n",
       "        vertical-align: middle;\n",
       "    }\n",
       "\n",
       "    .dataframe tbody tr th {\n",
       "        vertical-align: top;\n",
       "    }\n",
       "\n",
       "    .dataframe thead th {\n",
       "        text-align: right;\n",
       "    }\n",
       "</style>\n",
       "<table border=\"1\" class=\"dataframe\">\n",
       "  <thead>\n",
       "    <tr style=\"text-align: right;\">\n",
       "      <th></th>\n",
       "      <th>Unnamed: 0</th>\n",
       "      <th>user_id</th>\n",
       "      <th>timestamp</th>\n",
       "      <th>source</th>\n",
       "      <th>device</th>\n",
       "      <th>operative_system</th>\n",
       "      <th>test</th>\n",
       "      <th>price</th>\n",
       "      <th>converted</th>\n",
       "    </tr>\n",
       "  </thead>\n",
       "  <tbody>\n",
       "    <tr>\n",
       "      <th>0</th>\n",
       "      <td>0</td>\n",
       "      <td>604839</td>\n",
       "      <td>2015-05-08 03:38:34</td>\n",
       "      <td>ads_facebook</td>\n",
       "      <td>mobile</td>\n",
       "      <td>iOS</td>\n",
       "      <td>0</td>\n",
       "      <td>39.0</td>\n",
       "      <td>0</td>\n",
       "    </tr>\n",
       "    <tr>\n",
       "      <th>1</th>\n",
       "      <td>1</td>\n",
       "      <td>624057</td>\n",
       "      <td>2015-05-10 21:08:46</td>\n",
       "      <td>seo-google</td>\n",
       "      <td>mobile</td>\n",
       "      <td>android</td>\n",
       "      <td>0</td>\n",
       "      <td>39.0</td>\n",
       "      <td>0</td>\n",
       "    </tr>\n",
       "    <tr>\n",
       "      <th>2</th>\n",
       "      <td>2</td>\n",
       "      <td>317970</td>\n",
       "      <td>2015-04-04 15:01:23</td>\n",
       "      <td>ads-bing</td>\n",
       "      <td>mobile</td>\n",
       "      <td>android</td>\n",
       "      <td>0</td>\n",
       "      <td>39.0</td>\n",
       "      <td>0</td>\n",
       "    </tr>\n",
       "    <tr>\n",
       "      <th>3</th>\n",
       "      <td>3</td>\n",
       "      <td>685636</td>\n",
       "      <td>2015-05-07 07:26:01</td>\n",
       "      <td>direct_traffic</td>\n",
       "      <td>mobile</td>\n",
       "      <td>iOS</td>\n",
       "      <td>1</td>\n",
       "      <td>59.0</td>\n",
       "      <td>0</td>\n",
       "    </tr>\n",
       "    <tr>\n",
       "      <th>4</th>\n",
       "      <td>4</td>\n",
       "      <td>820854</td>\n",
       "      <td>2015-05-24 11:04:40</td>\n",
       "      <td>ads_facebook</td>\n",
       "      <td>web</td>\n",
       "      <td>mac</td>\n",
       "      <td>0</td>\n",
       "      <td>39.0</td>\n",
       "      <td>0</td>\n",
       "    </tr>\n",
       "  </tbody>\n",
       "</table>\n",
       "</div>"
      ],
      "text/plain": [
       "   Unnamed: 0  user_id            timestamp          source  device  \\\n",
       "0           0   604839  2015-05-08 03:38:34    ads_facebook  mobile   \n",
       "1           1   624057  2015-05-10 21:08:46      seo-google  mobile   \n",
       "2           2   317970  2015-04-04 15:01:23        ads-bing  mobile   \n",
       "3           3   685636  2015-05-07 07:26:01  direct_traffic  mobile   \n",
       "4           4   820854  2015-05-24 11:04:40    ads_facebook     web   \n",
       "\n",
       "  operative_system  test  price  converted  \n",
       "0              iOS     0   39.0          0  \n",
       "1          android     0   39.0          0  \n",
       "2          android     0   39.0          0  \n",
       "3              iOS     1   59.0          0  \n",
       "4              mac     0   39.0          0  "
      ]
     },
     "execution_count": 2,
     "metadata": {},
     "output_type": "execute_result"
    }
   ],
   "source": [
    "# Ingest data\n",
    "test_df = pd.read_csv('../test_results.csv')\n",
    "test_df.head()"
   ]
  },
  {
   "cell_type": "code",
   "execution_count": 3,
   "metadata": {},
   "outputs": [
    {
     "data": {
      "text/plain": [
       "(316800, 8)"
      ]
     },
     "execution_count": 3,
     "metadata": {},
     "output_type": "execute_result"
    }
   ],
   "source": [
    "# Set Unnamed:0 column as index column\n",
    "test_df= test_df.set_index('Unnamed: 0')\n",
    "test_df.shape"
   ]
  },
  {
   "cell_type": "code",
   "execution_count": 4,
   "metadata": {},
   "outputs": [
    {
     "data": {
      "text/html": [
       "<div>\n",
       "<style scoped>\n",
       "    .dataframe tbody tr th:only-of-type {\n",
       "        vertical-align: middle;\n",
       "    }\n",
       "\n",
       "    .dataframe tbody tr th {\n",
       "        vertical-align: top;\n",
       "    }\n",
       "\n",
       "    .dataframe thead th {\n",
       "        text-align: right;\n",
       "    }\n",
       "</style>\n",
       "<table border=\"1\" class=\"dataframe\">\n",
       "  <thead>\n",
       "    <tr style=\"text-align: right;\">\n",
       "      <th></th>\n",
       "      <th>user_id</th>\n",
       "      <th>city</th>\n",
       "      <th>country</th>\n",
       "      <th>lat</th>\n",
       "      <th>long</th>\n",
       "    </tr>\n",
       "  </thead>\n",
       "  <tbody>\n",
       "    <tr>\n",
       "      <th>0</th>\n",
       "      <td>510335</td>\n",
       "      <td>Peabody</td>\n",
       "      <td>USA</td>\n",
       "      <td>42.53</td>\n",
       "      <td>-70.97</td>\n",
       "    </tr>\n",
       "    <tr>\n",
       "      <th>1</th>\n",
       "      <td>89568</td>\n",
       "      <td>Reno</td>\n",
       "      <td>USA</td>\n",
       "      <td>39.54</td>\n",
       "      <td>-119.82</td>\n",
       "    </tr>\n",
       "    <tr>\n",
       "      <th>2</th>\n",
       "      <td>434134</td>\n",
       "      <td>Rialto</td>\n",
       "      <td>USA</td>\n",
       "      <td>34.11</td>\n",
       "      <td>-117.39</td>\n",
       "    </tr>\n",
       "    <tr>\n",
       "      <th>3</th>\n",
       "      <td>289769</td>\n",
       "      <td>Carson City</td>\n",
       "      <td>USA</td>\n",
       "      <td>39.15</td>\n",
       "      <td>-119.74</td>\n",
       "    </tr>\n",
       "    <tr>\n",
       "      <th>4</th>\n",
       "      <td>939586</td>\n",
       "      <td>Chicago</td>\n",
       "      <td>USA</td>\n",
       "      <td>41.84</td>\n",
       "      <td>-87.68</td>\n",
       "    </tr>\n",
       "  </tbody>\n",
       "</table>\n",
       "</div>"
      ],
      "text/plain": [
       "   user_id         city country    lat    long\n",
       "0   510335      Peabody     USA  42.53  -70.97\n",
       "1    89568         Reno     USA  39.54 -119.82\n",
       "2   434134       Rialto     USA  34.11 -117.39\n",
       "3   289769  Carson City     USA  39.15 -119.74\n",
       "4   939586      Chicago     USA  41.84  -87.68"
      ]
     },
     "execution_count": 4,
     "metadata": {},
     "output_type": "execute_result"
    }
   ],
   "source": [
    "user_df = pd.read_csv('../user_table.csv')\n",
    "user_df.head()"
   ]
  },
  {
   "cell_type": "markdown",
   "metadata": {},
   "source": [
    "#### Examine test dataset"
   ]
  },
  {
   "cell_type": "code",
   "execution_count": 5,
   "metadata": {},
   "outputs": [],
   "source": [
    "test_df['revenue'] = test_df['price'] * test_df['converted']"
   ]
  },
  {
   "cell_type": "code",
   "execution_count": 6,
   "metadata": {},
   "outputs": [
    {
     "name": "stdout",
     "output_type": "stream",
     "text": [
      "<class 'pandas.core.frame.DataFrame'>\n",
      "Int64Index: 316800 entries, 0 to 316799\n",
      "Data columns (total 9 columns):\n",
      " #   Column            Non-Null Count   Dtype  \n",
      "---  ------            --------------   -----  \n",
      " 0   user_id           316800 non-null  int64  \n",
      " 1   timestamp         316466 non-null  object \n",
      " 2   source            316488 non-null  object \n",
      " 3   device            316800 non-null  object \n",
      " 4   operative_system  296461 non-null  object \n",
      " 5   test              316800 non-null  int64  \n",
      " 6   price             316800 non-null  float64\n",
      " 7   converted         316800 non-null  int64  \n",
      " 8   revenue           316800 non-null  float64\n",
      "dtypes: float64(2), int64(3), object(4)\n",
      "memory usage: 24.2+ MB\n"
     ]
    }
   ],
   "source": [
    "test_df.info()"
   ]
  },
  {
   "cell_type": "code",
   "execution_count": 7,
   "metadata": {},
   "outputs": [
    {
     "data": {
      "text/plain": [
       "user_id                 0\n",
       "timestamp             334\n",
       "source                312\n",
       "device                  0\n",
       "operative_system    20339\n",
       "test                    0\n",
       "price                   0\n",
       "converted               0\n",
       "revenue                 0\n",
       "dtype: int64"
      ]
     },
     "execution_count": 7,
     "metadata": {},
     "output_type": "execute_result"
    }
   ],
   "source": [
    "test_df.isna().sum()"
   ]
  },
  {
   "cell_type": "markdown",
   "metadata": {},
   "source": [
    "Null values in some of the columns."
   ]
  },
  {
   "cell_type": "code",
   "execution_count": 8,
   "metadata": {},
   "outputs": [
    {
     "data": {
      "text/html": [
       "<div>\n",
       "<style scoped>\n",
       "    .dataframe tbody tr th:only-of-type {\n",
       "        vertical-align: middle;\n",
       "    }\n",
       "\n",
       "    .dataframe tbody tr th {\n",
       "        vertical-align: top;\n",
       "    }\n",
       "\n",
       "    .dataframe thead th {\n",
       "        text-align: right;\n",
       "    }\n",
       "</style>\n",
       "<table border=\"1\" class=\"dataframe\">\n",
       "  <thead>\n",
       "    <tr style=\"text-align: right;\">\n",
       "      <th></th>\n",
       "      <th>user_id</th>\n",
       "      <th>test</th>\n",
       "      <th>price</th>\n",
       "      <th>converted</th>\n",
       "      <th>revenue</th>\n",
       "    </tr>\n",
       "  </thead>\n",
       "  <tbody>\n",
       "    <tr>\n",
       "      <th>count</th>\n",
       "      <td>316800.000000</td>\n",
       "      <td>316800.000000</td>\n",
       "      <td>3.168000e+05</td>\n",
       "      <td>316800.000000</td>\n",
       "      <td>3.168000e+05</td>\n",
       "    </tr>\n",
       "    <tr>\n",
       "      <th>mean</th>\n",
       "      <td>499281.341840</td>\n",
       "      <td>0.360079</td>\n",
       "      <td>6.457590e+06</td>\n",
       "      <td>0.018333</td>\n",
       "      <td>1.206207e+05</td>\n",
       "    </tr>\n",
       "    <tr>\n",
       "      <th>std</th>\n",
       "      <td>288591.154044</td>\n",
       "      <td>0.480024</td>\n",
       "      <td>6.797307e+07</td>\n",
       "      <td>0.134154</td>\n",
       "      <td>9.202854e+06</td>\n",
       "    </tr>\n",
       "    <tr>\n",
       "      <th>min</th>\n",
       "      <td>3.000000</td>\n",
       "      <td>0.000000</td>\n",
       "      <td>3.900000e+01</td>\n",
       "      <td>0.000000</td>\n",
       "      <td>0.000000e+00</td>\n",
       "    </tr>\n",
       "    <tr>\n",
       "      <th>25%</th>\n",
       "      <td>249525.750000</td>\n",
       "      <td>0.000000</td>\n",
       "      <td>3.900000e+01</td>\n",
       "      <td>0.000000</td>\n",
       "      <td>0.000000e+00</td>\n",
       "    </tr>\n",
       "    <tr>\n",
       "      <th>50%</th>\n",
       "      <td>499021.500000</td>\n",
       "      <td>0.000000</td>\n",
       "      <td>3.900000e+01</td>\n",
       "      <td>0.000000</td>\n",
       "      <td>0.000000e+00</td>\n",
       "    </tr>\n",
       "    <tr>\n",
       "      <th>75%</th>\n",
       "      <td>749025.500000</td>\n",
       "      <td>1.000000</td>\n",
       "      <td>5.900000e+01</td>\n",
       "      <td>0.000000</td>\n",
       "      <td>0.000000e+00</td>\n",
       "    </tr>\n",
       "    <tr>\n",
       "      <th>max</th>\n",
       "      <td>1000000.000000</td>\n",
       "      <td>1.000000</td>\n",
       "      <td>9.998843e+08</td>\n",
       "      <td>1.000000</td>\n",
       "      <td>9.913866e+08</td>\n",
       "    </tr>\n",
       "  </tbody>\n",
       "</table>\n",
       "</div>"
      ],
      "text/plain": [
       "              user_id           test         price      converted  \\\n",
       "count   316800.000000  316800.000000  3.168000e+05  316800.000000   \n",
       "mean    499281.341840       0.360079  6.457590e+06       0.018333   \n",
       "std     288591.154044       0.480024  6.797307e+07       0.134154   \n",
       "min          3.000000       0.000000  3.900000e+01       0.000000   \n",
       "25%     249525.750000       0.000000  3.900000e+01       0.000000   \n",
       "50%     499021.500000       0.000000  3.900000e+01       0.000000   \n",
       "75%     749025.500000       1.000000  5.900000e+01       0.000000   \n",
       "max    1000000.000000       1.000000  9.998843e+08       1.000000   \n",
       "\n",
       "            revenue  \n",
       "count  3.168000e+05  \n",
       "mean   1.206207e+05  \n",
       "std    9.202854e+06  \n",
       "min    0.000000e+00  \n",
       "25%    0.000000e+00  \n",
       "50%    0.000000e+00  \n",
       "75%    0.000000e+00  \n",
       "max    9.913866e+08  "
      ]
     },
     "execution_count": 8,
     "metadata": {},
     "output_type": "execute_result"
    }
   ],
   "source": [
    "test_df.describe()"
   ]
  },
  {
   "cell_type": "markdown",
   "metadata": {},
   "source": [
    "There is a problem with the prices should be only 39 and 59 dollars "
   ]
  },
  {
   "cell_type": "code",
   "execution_count": 9,
   "metadata": {},
   "outputs": [
    {
     "data": {
      "text/plain": [
       "array([3.90000000e+01, 5.90000000e+01, 7.60350245e+08, ...,\n",
       "       8.08182142e+08, 6.55179349e+08, 6.21407779e+08])"
      ]
     },
     "execution_count": 9,
     "metadata": {},
     "output_type": "execute_result"
    }
   ],
   "source": [
    "test_df['price'].unique()"
   ]
  },
  {
   "cell_type": "code",
   "execution_count": 10,
   "metadata": {},
   "outputs": [],
   "source": [
    "select_values = [39, 59]"
   ]
  },
  {
   "cell_type": "code",
   "execution_count": 11,
   "metadata": {},
   "outputs": [],
   "source": [
    "test_df=test_df.loc[test_df['price'].isin(select_values)]"
   ]
  },
  {
   "cell_type": "code",
   "execution_count": 12,
   "metadata": {},
   "outputs": [
    {
     "data": {
      "text/html": [
       "<div>\n",
       "<style scoped>\n",
       "    .dataframe tbody tr th:only-of-type {\n",
       "        vertical-align: middle;\n",
       "    }\n",
       "\n",
       "    .dataframe tbody tr th {\n",
       "        vertical-align: top;\n",
       "    }\n",
       "\n",
       "    .dataframe thead th {\n",
       "        text-align: right;\n",
       "    }\n",
       "</style>\n",
       "<table border=\"1\" class=\"dataframe\">\n",
       "  <thead>\n",
       "    <tr style=\"text-align: right;\">\n",
       "      <th></th>\n",
       "      <th></th>\n",
       "      <th>user_id</th>\n",
       "    </tr>\n",
       "    <tr>\n",
       "      <th>test</th>\n",
       "      <th>price</th>\n",
       "      <th></th>\n",
       "    </tr>\n",
       "  </thead>\n",
       "  <tbody>\n",
       "    <tr>\n",
       "      <th rowspan=\"2\" valign=\"top\">0</th>\n",
       "      <th>39.0</th>\n",
       "      <td>200593</td>\n",
       "    </tr>\n",
       "    <tr>\n",
       "      <th>59.0</th>\n",
       "      <td>209</td>\n",
       "    </tr>\n",
       "    <tr>\n",
       "      <th rowspan=\"2\" valign=\"top\">1</th>\n",
       "      <th>39.0</th>\n",
       "      <td>154</td>\n",
       "    </tr>\n",
       "    <tr>\n",
       "      <th>59.0</th>\n",
       "      <td>112770</td>\n",
       "    </tr>\n",
       "  </tbody>\n",
       "</table>\n",
       "</div>"
      ],
      "text/plain": [
       "            user_id\n",
       "test price         \n",
       "0    39.0    200593\n",
       "     59.0       209\n",
       "1    39.0       154\n",
       "     59.0    112770"
      ]
     },
     "execution_count": 12,
     "metadata": {},
     "output_type": "execute_result"
    }
   ],
   "source": [
    "test_df[['price', 'test', 'user_id']].groupby(['test', 'price']).count()"
   ]
  },
  {
   "cell_type": "markdown",
   "metadata": {},
   "source": [
    "However, there are still problems with the data. \n",
    "1. There are some users who are in the  test group (test=1) who see the lower price (\\$39) and \n",
    "2. There are some users in the control group (test=0) who see the higher, new price (\\$59). These users need to be eliminated."
   ]
  },
  {
   "cell_type": "code",
   "execution_count": 13,
   "metadata": {},
   "outputs": [],
   "source": [
    "# Problem with the data: test and price not match. Further remove problematic data\n",
    "test_df = test_df[((test_df['test']==0) & (test_df['price']==39)) | ((test_df['test']==1) & (test_df['price']==59))]"
   ]
  },
  {
   "cell_type": "code",
   "execution_count": 14,
   "metadata": {},
   "outputs": [
    {
     "data": {
      "text/html": [
       "<div>\n",
       "<style scoped>\n",
       "    .dataframe tbody tr th:only-of-type {\n",
       "        vertical-align: middle;\n",
       "    }\n",
       "\n",
       "    .dataframe tbody tr th {\n",
       "        vertical-align: top;\n",
       "    }\n",
       "\n",
       "    .dataframe thead th {\n",
       "        text-align: right;\n",
       "    }\n",
       "</style>\n",
       "<table border=\"1\" class=\"dataframe\">\n",
       "  <thead>\n",
       "    <tr style=\"text-align: right;\">\n",
       "      <th></th>\n",
       "      <th></th>\n",
       "      <th>user_id</th>\n",
       "    </tr>\n",
       "    <tr>\n",
       "      <th>test</th>\n",
       "      <th>price</th>\n",
       "      <th></th>\n",
       "    </tr>\n",
       "  </thead>\n",
       "  <tbody>\n",
       "    <tr>\n",
       "      <th>0</th>\n",
       "      <th>39.0</th>\n",
       "      <td>200593</td>\n",
       "    </tr>\n",
       "    <tr>\n",
       "      <th>1</th>\n",
       "      <th>59.0</th>\n",
       "      <td>112770</td>\n",
       "    </tr>\n",
       "  </tbody>\n",
       "</table>\n",
       "</div>"
      ],
      "text/plain": [
       "            user_id\n",
       "test price         \n",
       "0    39.0    200593\n",
       "1    59.0    112770"
      ]
     },
     "execution_count": 14,
     "metadata": {},
     "output_type": "execute_result"
    }
   ],
   "source": [
    "test_df[['price', 'test', 'user_id']].groupby(['test', 'price']).count()"
   ]
  },
  {
   "cell_type": "code",
   "execution_count": 15,
   "metadata": {
    "scrolled": true
   },
   "outputs": [
    {
     "data": {
      "text/html": [
       "<div>\n",
       "<style scoped>\n",
       "    .dataframe tbody tr th:only-of-type {\n",
       "        vertical-align: middle;\n",
       "    }\n",
       "\n",
       "    .dataframe tbody tr th {\n",
       "        vertical-align: top;\n",
       "    }\n",
       "\n",
       "    .dataframe thead th {\n",
       "        text-align: right;\n",
       "    }\n",
       "</style>\n",
       "<table border=\"1\" class=\"dataframe\">\n",
       "  <thead>\n",
       "    <tr style=\"text-align: right;\">\n",
       "      <th></th>\n",
       "      <th></th>\n",
       "      <th>user_id</th>\n",
       "      <th>timestamp</th>\n",
       "      <th>source</th>\n",
       "      <th>device</th>\n",
       "      <th>operative_system</th>\n",
       "      <th>price</th>\n",
       "      <th>revenue</th>\n",
       "    </tr>\n",
       "    <tr>\n",
       "      <th>test</th>\n",
       "      <th>converted</th>\n",
       "      <th></th>\n",
       "      <th></th>\n",
       "      <th></th>\n",
       "      <th></th>\n",
       "      <th></th>\n",
       "      <th></th>\n",
       "      <th></th>\n",
       "    </tr>\n",
       "  </thead>\n",
       "  <tbody>\n",
       "    <tr>\n",
       "      <th rowspan=\"2\" valign=\"top\">0</th>\n",
       "      <th>0</th>\n",
       "      <td>196604</td>\n",
       "      <td>196406</td>\n",
       "      <td>196415</td>\n",
       "      <td>196604</td>\n",
       "      <td>184226</td>\n",
       "      <td>196604</td>\n",
       "      <td>196604</td>\n",
       "    </tr>\n",
       "    <tr>\n",
       "      <th>1</th>\n",
       "      <td>3989</td>\n",
       "      <td>3985</td>\n",
       "      <td>3989</td>\n",
       "      <td>3989</td>\n",
       "      <td>3812</td>\n",
       "      <td>3989</td>\n",
       "      <td>3989</td>\n",
       "    </tr>\n",
       "    <tr>\n",
       "      <th rowspan=\"2\" valign=\"top\">1</th>\n",
       "      <th>0</th>\n",
       "      <td>111016</td>\n",
       "      <td>110890</td>\n",
       "      <td>110899</td>\n",
       "      <td>111016</td>\n",
       "      <td>103547</td>\n",
       "      <td>111016</td>\n",
       "      <td>111016</td>\n",
       "    </tr>\n",
       "    <tr>\n",
       "      <th>1</th>\n",
       "      <td>1754</td>\n",
       "      <td>1753</td>\n",
       "      <td>1753</td>\n",
       "      <td>1754</td>\n",
       "      <td>1691</td>\n",
       "      <td>1754</td>\n",
       "      <td>1754</td>\n",
       "    </tr>\n",
       "  </tbody>\n",
       "</table>\n",
       "</div>"
      ],
      "text/plain": [
       "                user_id  timestamp  source  device  operative_system   price  \\\n",
       "test converted                                                                 \n",
       "0    0           196604     196406  196415  196604            184226  196604   \n",
       "     1             3989       3985    3989    3989              3812    3989   \n",
       "1    0           111016     110890  110899  111016            103547  111016   \n",
       "     1             1754       1753    1753    1754              1691    1754   \n",
       "\n",
       "                revenue  \n",
       "test converted           \n",
       "0    0           196604  \n",
       "     1             3989  \n",
       "1    0           111016  \n",
       "     1             1754  "
      ]
     },
     "execution_count": 15,
     "metadata": {},
     "output_type": "execute_result"
    }
   ],
   "source": [
    "test_df.groupby(by=['test','converted']).count()"
   ]
  },
  {
   "cell_type": "code",
   "execution_count": 16,
   "metadata": {
    "scrolled": true
   },
   "outputs": [
    {
     "data": {
      "text/html": [
       "<div>\n",
       "<style scoped>\n",
       "    .dataframe tbody tr th:only-of-type {\n",
       "        vertical-align: middle;\n",
       "    }\n",
       "\n",
       "    .dataframe tbody tr th {\n",
       "        vertical-align: top;\n",
       "    }\n",
       "\n",
       "    .dataframe thead th {\n",
       "        text-align: right;\n",
       "    }\n",
       "</style>\n",
       "<table border=\"1\" class=\"dataframe\">\n",
       "  <thead>\n",
       "    <tr style=\"text-align: right;\">\n",
       "      <th></th>\n",
       "      <th>count</th>\n",
       "      <th>mean</th>\n",
       "      <th>std</th>\n",
       "      <th>min</th>\n",
       "      <th>25%</th>\n",
       "      <th>50%</th>\n",
       "      <th>75%</th>\n",
       "      <th>max</th>\n",
       "    </tr>\n",
       "    <tr>\n",
       "      <th>test</th>\n",
       "      <th></th>\n",
       "      <th></th>\n",
       "      <th></th>\n",
       "      <th></th>\n",
       "      <th></th>\n",
       "      <th></th>\n",
       "      <th></th>\n",
       "      <th></th>\n",
       "    </tr>\n",
       "  </thead>\n",
       "  <tbody>\n",
       "    <tr>\n",
       "      <th>0</th>\n",
       "      <td>200593.0</td>\n",
       "      <td>0.019886</td>\n",
       "      <td>0.139609</td>\n",
       "      <td>0.0</td>\n",
       "      <td>0.0</td>\n",
       "      <td>0.0</td>\n",
       "      <td>0.0</td>\n",
       "      <td>1.0</td>\n",
       "    </tr>\n",
       "    <tr>\n",
       "      <th>1</th>\n",
       "      <td>112770.0</td>\n",
       "      <td>0.015554</td>\n",
       "      <td>0.123742</td>\n",
       "      <td>0.0</td>\n",
       "      <td>0.0</td>\n",
       "      <td>0.0</td>\n",
       "      <td>0.0</td>\n",
       "      <td>1.0</td>\n",
       "    </tr>\n",
       "  </tbody>\n",
       "</table>\n",
       "</div>"
      ],
      "text/plain": [
       "         count      mean       std  min  25%  50%  75%  max\n",
       "test                                                       \n",
       "0     200593.0  0.019886  0.139609  0.0  0.0  0.0  0.0  1.0\n",
       "1     112770.0  0.015554  0.123742  0.0  0.0  0.0  0.0  1.0"
      ]
     },
     "execution_count": 16,
     "metadata": {},
     "output_type": "execute_result"
    }
   ],
   "source": [
    "test_df.groupby('test')['converted'].describe()"
   ]
  },
  {
   "cell_type": "code",
   "execution_count": null,
   "metadata": {},
   "outputs": [],
   "source": []
  },
  {
   "cell_type": "markdown",
   "metadata": {},
   "source": [
    "#### Examine user dataset"
   ]
  },
  {
   "cell_type": "code",
   "execution_count": 17,
   "metadata": {},
   "outputs": [
    {
     "data": {
      "text/plain": [
       "(275616, 5)"
      ]
     },
     "execution_count": 17,
     "metadata": {},
     "output_type": "execute_result"
    }
   ],
   "source": [
    "user_df.shape"
   ]
  },
  {
   "cell_type": "code",
   "execution_count": 18,
   "metadata": {},
   "outputs": [
    {
     "name": "stdout",
     "output_type": "stream",
     "text": [
      "<class 'pandas.core.frame.DataFrame'>\n",
      "RangeIndex: 275616 entries, 0 to 275615\n",
      "Data columns (total 5 columns):\n",
      " #   Column   Non-Null Count   Dtype  \n",
      "---  ------   --------------   -----  \n",
      " 0   user_id  275616 non-null  int64  \n",
      " 1   city     275616 non-null  object \n",
      " 2   country  275616 non-null  object \n",
      " 3   lat      275616 non-null  float64\n",
      " 4   long     275616 non-null  float64\n",
      "dtypes: float64(2), int64(1), object(2)\n",
      "memory usage: 10.5+ MB\n"
     ]
    }
   ],
   "source": [
    "user_df.info()"
   ]
  },
  {
   "cell_type": "code",
   "execution_count": 19,
   "metadata": {},
   "outputs": [
    {
     "data": {
      "text/html": [
       "<div>\n",
       "<style scoped>\n",
       "    .dataframe tbody tr th:only-of-type {\n",
       "        vertical-align: middle;\n",
       "    }\n",
       "\n",
       "    .dataframe tbody tr th {\n",
       "        vertical-align: top;\n",
       "    }\n",
       "\n",
       "    .dataframe thead th {\n",
       "        text-align: right;\n",
       "    }\n",
       "</style>\n",
       "<table border=\"1\" class=\"dataframe\">\n",
       "  <thead>\n",
       "    <tr style=\"text-align: right;\">\n",
       "      <th></th>\n",
       "      <th>user_id</th>\n",
       "      <th>lat</th>\n",
       "      <th>long</th>\n",
       "    </tr>\n",
       "  </thead>\n",
       "  <tbody>\n",
       "    <tr>\n",
       "      <th>count</th>\n",
       "      <td>275616.000000</td>\n",
       "      <td>275616.000000</td>\n",
       "      <td>275616.000000</td>\n",
       "    </tr>\n",
       "    <tr>\n",
       "      <th>mean</th>\n",
       "      <td>499245.801521</td>\n",
       "      <td>37.111680</td>\n",
       "      <td>-93.981772</td>\n",
       "    </tr>\n",
       "    <tr>\n",
       "      <th>std</th>\n",
       "      <td>288533.458944</td>\n",
       "      <td>5.209627</td>\n",
       "      <td>18.086486</td>\n",
       "    </tr>\n",
       "    <tr>\n",
       "      <th>min</th>\n",
       "      <td>3.000000</td>\n",
       "      <td>19.700000</td>\n",
       "      <td>-157.800000</td>\n",
       "    </tr>\n",
       "    <tr>\n",
       "      <th>25%</th>\n",
       "      <td>249544.500000</td>\n",
       "      <td>33.660000</td>\n",
       "      <td>-112.200000</td>\n",
       "    </tr>\n",
       "    <tr>\n",
       "      <th>50%</th>\n",
       "      <td>498861.000000</td>\n",
       "      <td>37.740000</td>\n",
       "      <td>-88.930000</td>\n",
       "    </tr>\n",
       "    <tr>\n",
       "      <th>75%</th>\n",
       "      <td>748856.500000</td>\n",
       "      <td>40.700000</td>\n",
       "      <td>-78.910000</td>\n",
       "    </tr>\n",
       "    <tr>\n",
       "      <th>max</th>\n",
       "      <td>999999.000000</td>\n",
       "      <td>61.180000</td>\n",
       "      <td>30.310000</td>\n",
       "    </tr>\n",
       "  </tbody>\n",
       "</table>\n",
       "</div>"
      ],
      "text/plain": [
       "             user_id            lat           long\n",
       "count  275616.000000  275616.000000  275616.000000\n",
       "mean   499245.801521      37.111680     -93.981772\n",
       "std    288533.458944       5.209627      18.086486\n",
       "min         3.000000      19.700000    -157.800000\n",
       "25%    249544.500000      33.660000    -112.200000\n",
       "50%    498861.000000      37.740000     -88.930000\n",
       "75%    748856.500000      40.700000     -78.910000\n",
       "max    999999.000000      61.180000      30.310000"
      ]
     },
     "execution_count": 19,
     "metadata": {},
     "output_type": "execute_result"
    }
   ],
   "source": [
    "user_df.describe()"
   ]
  },
  {
   "cell_type": "code",
   "execution_count": 20,
   "metadata": {},
   "outputs": [
    {
     "data": {
      "text/plain": [
       "user_id    0\n",
       "city       0\n",
       "country    0\n",
       "lat        0\n",
       "long       0\n",
       "dtype: int64"
      ]
     },
     "execution_count": 20,
     "metadata": {},
     "output_type": "execute_result"
    }
   ],
   "source": [
    "user_df.isna().sum()"
   ]
  },
  {
   "cell_type": "markdown",
   "metadata": {},
   "source": [
    "No null sets in user datset"
   ]
  },
  {
   "cell_type": "markdown",
   "metadata": {},
   "source": [
    "# Merging Data"
   ]
  },
  {
   "cell_type": "code",
   "execution_count": 21,
   "metadata": {},
   "outputs": [
    {
     "data": {
      "text/html": [
       "<div>\n",
       "<style scoped>\n",
       "    .dataframe tbody tr th:only-of-type {\n",
       "        vertical-align: middle;\n",
       "    }\n",
       "\n",
       "    .dataframe tbody tr th {\n",
       "        vertical-align: top;\n",
       "    }\n",
       "\n",
       "    .dataframe thead th {\n",
       "        text-align: right;\n",
       "    }\n",
       "</style>\n",
       "<table border=\"1\" class=\"dataframe\">\n",
       "  <thead>\n",
       "    <tr style=\"text-align: right;\">\n",
       "      <th></th>\n",
       "      <th>user_id</th>\n",
       "      <th>timestamp</th>\n",
       "      <th>source</th>\n",
       "      <th>device</th>\n",
       "      <th>operative_system</th>\n",
       "      <th>test</th>\n",
       "      <th>price</th>\n",
       "      <th>converted</th>\n",
       "      <th>revenue</th>\n",
       "      <th>city</th>\n",
       "      <th>country</th>\n",
       "      <th>lat</th>\n",
       "      <th>long</th>\n",
       "    </tr>\n",
       "  </thead>\n",
       "  <tbody>\n",
       "    <tr>\n",
       "      <th>0</th>\n",
       "      <td>604839</td>\n",
       "      <td>2015-05-08 03:38:34</td>\n",
       "      <td>ads_facebook</td>\n",
       "      <td>mobile</td>\n",
       "      <td>iOS</td>\n",
       "      <td>0</td>\n",
       "      <td>39.0</td>\n",
       "      <td>0</td>\n",
       "      <td>0.0</td>\n",
       "      <td>Buffalo</td>\n",
       "      <td>USA</td>\n",
       "      <td>42.89</td>\n",
       "      <td>-78.86</td>\n",
       "    </tr>\n",
       "    <tr>\n",
       "      <th>1</th>\n",
       "      <td>624057</td>\n",
       "      <td>2015-05-10 21:08:46</td>\n",
       "      <td>seo-google</td>\n",
       "      <td>mobile</td>\n",
       "      <td>android</td>\n",
       "      <td>0</td>\n",
       "      <td>39.0</td>\n",
       "      <td>0</td>\n",
       "      <td>0.0</td>\n",
       "      <td>Lakeville</td>\n",
       "      <td>USA</td>\n",
       "      <td>44.68</td>\n",
       "      <td>-93.24</td>\n",
       "    </tr>\n",
       "    <tr>\n",
       "      <th>2</th>\n",
       "      <td>317970</td>\n",
       "      <td>2015-04-04 15:01:23</td>\n",
       "      <td>ads-bing</td>\n",
       "      <td>mobile</td>\n",
       "      <td>android</td>\n",
       "      <td>0</td>\n",
       "      <td>39.0</td>\n",
       "      <td>0</td>\n",
       "      <td>0.0</td>\n",
       "      <td>Parma</td>\n",
       "      <td>USA</td>\n",
       "      <td>41.38</td>\n",
       "      <td>-81.73</td>\n",
       "    </tr>\n",
       "    <tr>\n",
       "      <th>3</th>\n",
       "      <td>685636</td>\n",
       "      <td>2015-05-07 07:26:01</td>\n",
       "      <td>direct_traffic</td>\n",
       "      <td>mobile</td>\n",
       "      <td>iOS</td>\n",
       "      <td>1</td>\n",
       "      <td>59.0</td>\n",
       "      <td>0</td>\n",
       "      <td>0.0</td>\n",
       "      <td>Fayetteville</td>\n",
       "      <td>USA</td>\n",
       "      <td>35.07</td>\n",
       "      <td>-78.90</td>\n",
       "    </tr>\n",
       "    <tr>\n",
       "      <th>4</th>\n",
       "      <td>820854</td>\n",
       "      <td>2015-05-24 11:04:40</td>\n",
       "      <td>ads_facebook</td>\n",
       "      <td>web</td>\n",
       "      <td>mac</td>\n",
       "      <td>0</td>\n",
       "      <td>39.0</td>\n",
       "      <td>0</td>\n",
       "      <td>0.0</td>\n",
       "      <td>Fishers</td>\n",
       "      <td>USA</td>\n",
       "      <td>39.95</td>\n",
       "      <td>-86.02</td>\n",
       "    </tr>\n",
       "  </tbody>\n",
       "</table>\n",
       "</div>"
      ],
      "text/plain": [
       "   user_id            timestamp          source  device operative_system  \\\n",
       "0   604839  2015-05-08 03:38:34    ads_facebook  mobile              iOS   \n",
       "1   624057  2015-05-10 21:08:46      seo-google  mobile          android   \n",
       "2   317970  2015-04-04 15:01:23        ads-bing  mobile          android   \n",
       "3   685636  2015-05-07 07:26:01  direct_traffic  mobile              iOS   \n",
       "4   820854  2015-05-24 11:04:40    ads_facebook     web              mac   \n",
       "\n",
       "   test  price  converted  revenue          city country    lat   long  \n",
       "0     0   39.0          0      0.0       Buffalo     USA  42.89 -78.86  \n",
       "1     0   39.0          0      0.0     Lakeville     USA  44.68 -93.24  \n",
       "2     0   39.0          0      0.0         Parma     USA  41.38 -81.73  \n",
       "3     1   59.0          0      0.0  Fayetteville     USA  35.07 -78.90  \n",
       "4     0   39.0          0      0.0       Fishers     USA  39.95 -86.02  "
      ]
     },
     "execution_count": 21,
     "metadata": {},
     "output_type": "execute_result"
    }
   ],
   "source": [
    "merged_df = test_df.merge(right=user_df, how='left', on='user_id')\n",
    "merged_df.head()"
   ]
  },
  {
   "cell_type": "code",
   "execution_count": 22,
   "metadata": {},
   "outputs": [
    {
     "data": {
      "text/plain": [
       "(313363, 13)"
      ]
     },
     "execution_count": 22,
     "metadata": {},
     "output_type": "execute_result"
    }
   ],
   "source": [
    "merged_df.shape"
   ]
  },
  {
   "cell_type": "code",
   "execution_count": 23,
   "metadata": {},
   "outputs": [
    {
     "data": {
      "text/html": [
       "<div>\n",
       "<style scoped>\n",
       "    .dataframe tbody tr th:only-of-type {\n",
       "        vertical-align: middle;\n",
       "    }\n",
       "\n",
       "    .dataframe tbody tr th {\n",
       "        vertical-align: top;\n",
       "    }\n",
       "\n",
       "    .dataframe thead th {\n",
       "        text-align: right;\n",
       "    }\n",
       "</style>\n",
       "<table border=\"1\" class=\"dataframe\">\n",
       "  <thead>\n",
       "    <tr style=\"text-align: right;\">\n",
       "      <th></th>\n",
       "      <th>user_id</th>\n",
       "      <th>test</th>\n",
       "      <th>price</th>\n",
       "      <th>converted</th>\n",
       "      <th>revenue</th>\n",
       "      <th>lat</th>\n",
       "      <th>long</th>\n",
       "    </tr>\n",
       "  </thead>\n",
       "  <tbody>\n",
       "    <tr>\n",
       "      <th>count</th>\n",
       "      <td>313363.000000</td>\n",
       "      <td>313363.000000</td>\n",
       "      <td>313363.000000</td>\n",
       "      <td>313363.000000</td>\n",
       "      <td>313363.000000</td>\n",
       "      <td>272621.000000</td>\n",
       "      <td>272621.000000</td>\n",
       "    </tr>\n",
       "    <tr>\n",
       "      <th>mean</th>\n",
       "      <td>499338.454339</td>\n",
       "      <td>0.359870</td>\n",
       "      <td>46.197404</td>\n",
       "      <td>0.018327</td>\n",
       "      <td>0.826699</td>\n",
       "      <td>37.112807</td>\n",
       "      <td>-93.978109</td>\n",
       "    </tr>\n",
       "    <tr>\n",
       "      <th>std</th>\n",
       "      <td>288610.862428</td>\n",
       "      <td>0.479963</td>\n",
       "      <td>9.599258</td>\n",
       "      <td>0.134131</td>\n",
       "      <td>6.177607</td>\n",
       "      <td>5.209647</td>\n",
       "      <td>18.087478</td>\n",
       "    </tr>\n",
       "    <tr>\n",
       "      <th>min</th>\n",
       "      <td>3.000000</td>\n",
       "      <td>0.000000</td>\n",
       "      <td>39.000000</td>\n",
       "      <td>0.000000</td>\n",
       "      <td>0.000000</td>\n",
       "      <td>19.700000</td>\n",
       "      <td>-157.800000</td>\n",
       "    </tr>\n",
       "    <tr>\n",
       "      <th>25%</th>\n",
       "      <td>249513.500000</td>\n",
       "      <td>0.000000</td>\n",
       "      <td>39.000000</td>\n",
       "      <td>0.000000</td>\n",
       "      <td>0.000000</td>\n",
       "      <td>33.660000</td>\n",
       "      <td>-112.200000</td>\n",
       "    </tr>\n",
       "    <tr>\n",
       "      <th>50%</th>\n",
       "      <td>499216.000000</td>\n",
       "      <td>0.000000</td>\n",
       "      <td>39.000000</td>\n",
       "      <td>0.000000</td>\n",
       "      <td>0.000000</td>\n",
       "      <td>37.740000</td>\n",
       "      <td>-88.930000</td>\n",
       "    </tr>\n",
       "    <tr>\n",
       "      <th>75%</th>\n",
       "      <td>749097.500000</td>\n",
       "      <td>1.000000</td>\n",
       "      <td>59.000000</td>\n",
       "      <td>0.000000</td>\n",
       "      <td>0.000000</td>\n",
       "      <td>40.700000</td>\n",
       "      <td>-78.910000</td>\n",
       "    </tr>\n",
       "    <tr>\n",
       "      <th>max</th>\n",
       "      <td>1000000.000000</td>\n",
       "      <td>1.000000</td>\n",
       "      <td>59.000000</td>\n",
       "      <td>1.000000</td>\n",
       "      <td>59.000000</td>\n",
       "      <td>61.180000</td>\n",
       "      <td>30.310000</td>\n",
       "    </tr>\n",
       "  </tbody>\n",
       "</table>\n",
       "</div>"
      ],
      "text/plain": [
       "              user_id           test          price      converted  \\\n",
       "count   313363.000000  313363.000000  313363.000000  313363.000000   \n",
       "mean    499338.454339       0.359870      46.197404       0.018327   \n",
       "std     288610.862428       0.479963       9.599258       0.134131   \n",
       "min          3.000000       0.000000      39.000000       0.000000   \n",
       "25%     249513.500000       0.000000      39.000000       0.000000   \n",
       "50%     499216.000000       0.000000      39.000000       0.000000   \n",
       "75%     749097.500000       1.000000      59.000000       0.000000   \n",
       "max    1000000.000000       1.000000      59.000000       1.000000   \n",
       "\n",
       "             revenue            lat           long  \n",
       "count  313363.000000  272621.000000  272621.000000  \n",
       "mean        0.826699      37.112807     -93.978109  \n",
       "std         6.177607       5.209647      18.087478  \n",
       "min         0.000000      19.700000    -157.800000  \n",
       "25%         0.000000      33.660000    -112.200000  \n",
       "50%         0.000000      37.740000     -88.930000  \n",
       "75%         0.000000      40.700000     -78.910000  \n",
       "max        59.000000      61.180000      30.310000  "
      ]
     },
     "execution_count": 23,
     "metadata": {},
     "output_type": "execute_result"
    }
   ],
   "source": [
    "merged_df.describe()"
   ]
  },
  {
   "cell_type": "code",
   "execution_count": 24,
   "metadata": {},
   "outputs": [
    {
     "data": {
      "text/plain": [
       "user_id             313363\n",
       "timestamp           140509\n",
       "source                  12\n",
       "device                   2\n",
       "operative_system         8\n",
       "test                     2\n",
       "price                    2\n",
       "converted                2\n",
       "revenue                  3\n",
       "city                   923\n",
       "country                  1\n",
       "lat                    713\n",
       "long                   830\n",
       "dtype: int64"
      ]
     },
     "execution_count": 24,
     "metadata": {},
     "output_type": "execute_result"
    }
   ],
   "source": [
    "# Count unique/distinct values in a column \n",
    "merged_df.nunique()"
   ]
  },
  {
   "cell_type": "code",
   "execution_count": 25,
   "metadata": {},
   "outputs": [
    {
     "name": "stdout",
     "output_type": "stream",
     "text": [
      "<class 'pandas.core.frame.DataFrame'>\n",
      "Int64Index: 313363 entries, 0 to 313362\n",
      "Data columns (total 13 columns):\n",
      " #   Column            Non-Null Count   Dtype  \n",
      "---  ------            --------------   -----  \n",
      " 0   user_id           313363 non-null  int64  \n",
      " 1   timestamp         313034 non-null  object \n",
      " 2   source            313056 non-null  object \n",
      " 3   device            313363 non-null  object \n",
      " 4   operative_system  293276 non-null  object \n",
      " 5   test              313363 non-null  int64  \n",
      " 6   price             313363 non-null  float64\n",
      " 7   converted         313363 non-null  int64  \n",
      " 8   revenue           313363 non-null  float64\n",
      " 9   city              272621 non-null  object \n",
      " 10  country           272621 non-null  object \n",
      " 11  lat               272621 non-null  float64\n",
      " 12  long              272621 non-null  float64\n",
      "dtypes: float64(4), int64(3), object(6)\n",
      "memory usage: 33.5+ MB\n"
     ]
    }
   ],
   "source": [
    "merged_df.info()"
   ]
  },
  {
   "cell_type": "code",
   "execution_count": 26,
   "metadata": {},
   "outputs": [
    {
     "data": {
      "text/html": [
       "<div>\n",
       "<style scoped>\n",
       "    .dataframe tbody tr th:only-of-type {\n",
       "        vertical-align: middle;\n",
       "    }\n",
       "\n",
       "    .dataframe tbody tr th {\n",
       "        vertical-align: top;\n",
       "    }\n",
       "\n",
       "    .dataframe thead th {\n",
       "        text-align: right;\n",
       "    }\n",
       "</style>\n",
       "<table border=\"1\" class=\"dataframe\">\n",
       "  <thead>\n",
       "    <tr style=\"text-align: right;\">\n",
       "      <th></th>\n",
       "      <th></th>\n",
       "      <th>user_id</th>\n",
       "    </tr>\n",
       "    <tr>\n",
       "      <th>test</th>\n",
       "      <th>price</th>\n",
       "      <th></th>\n",
       "    </tr>\n",
       "  </thead>\n",
       "  <tbody>\n",
       "    <tr>\n",
       "      <th>0</th>\n",
       "      <th>39.0</th>\n",
       "      <td>200593</td>\n",
       "    </tr>\n",
       "    <tr>\n",
       "      <th>1</th>\n",
       "      <th>59.0</th>\n",
       "      <td>112770</td>\n",
       "    </tr>\n",
       "  </tbody>\n",
       "</table>\n",
       "</div>"
      ],
      "text/plain": [
       "            user_id\n",
       "test price         \n",
       "0    39.0    200593\n",
       "1    59.0    112770"
      ]
     },
     "execution_count": 26,
     "metadata": {},
     "output_type": "execute_result"
    }
   ],
   "source": [
    "# Problem with the data: test and price not match\n",
    "merged_df[['price', 'test', 'user_id']].groupby(['test', 'price']).count()"
   ]
  },
  {
   "cell_type": "code",
   "execution_count": 27,
   "metadata": {},
   "outputs": [
    {
     "data": {
      "text/plain": [
       "user_id                 0\n",
       "timestamp             329\n",
       "source                307\n",
       "device                  0\n",
       "operative_system    20087\n",
       "test                    0\n",
       "price                   0\n",
       "converted               0\n",
       "revenue                 0\n",
       "city                40742\n",
       "country             40742\n",
       "lat                 40742\n",
       "long                40742\n",
       "dtype: int64"
      ]
     },
     "execution_count": 27,
     "metadata": {},
     "output_type": "execute_result"
    }
   ],
   "source": [
    "merged_df.isnull().sum()"
   ]
  },
  {
   "cell_type": "code",
   "execution_count": 28,
   "metadata": {},
   "outputs": [
    {
     "data": {
      "text/plain": [
       "mobile    184464\n",
       "web       128899\n",
       "Name: device, dtype: int64"
      ]
     },
     "execution_count": 28,
     "metadata": {},
     "output_type": "execute_result"
    }
   ],
   "source": [
    "merged_df.device.value_counts()"
   ]
  },
  {
   "cell_type": "code",
   "execution_count": 29,
   "metadata": {},
   "outputs": [
    {
     "data": {
      "text/plain": [
       "windows    99767\n",
       "iOS        94302\n",
       "android    74102\n",
       "mac        24790\n",
       "i0S          110\n",
       "wnddows       97\n",
       "anroid        79\n",
       "apple         29\n",
       "Name: operative_system, dtype: int64"
      ]
     },
     "execution_count": 29,
     "metadata": {},
     "output_type": "execute_result"
    }
   ],
   "source": [
    "merged_df.operative_system.value_counts()"
   ]
  },
  {
   "cell_type": "markdown",
   "metadata": {},
   "source": [
    "Hmmm spelling mistakes detected. Is apple a web or mobile device? "
   ]
  },
  {
   "cell_type": "code",
   "execution_count": 30,
   "metadata": {},
   "outputs": [
    {
     "data": {
      "text/html": [
       "<div>\n",
       "<style scoped>\n",
       "    .dataframe tbody tr th:only-of-type {\n",
       "        vertical-align: middle;\n",
       "    }\n",
       "\n",
       "    .dataframe tbody tr th {\n",
       "        vertical-align: top;\n",
       "    }\n",
       "\n",
       "    .dataframe thead th {\n",
       "        text-align: right;\n",
       "    }\n",
       "</style>\n",
       "<table border=\"1\" class=\"dataframe\">\n",
       "  <thead>\n",
       "    <tr style=\"text-align: right;\">\n",
       "      <th></th>\n",
       "      <th></th>\n",
       "      <th>user_id</th>\n",
       "      <th>timestamp</th>\n",
       "      <th>source</th>\n",
       "      <th>test</th>\n",
       "      <th>price</th>\n",
       "      <th>converted</th>\n",
       "      <th>revenue</th>\n",
       "      <th>city</th>\n",
       "      <th>country</th>\n",
       "      <th>lat</th>\n",
       "      <th>long</th>\n",
       "    </tr>\n",
       "    <tr>\n",
       "      <th>device</th>\n",
       "      <th>operative_system</th>\n",
       "      <th></th>\n",
       "      <th></th>\n",
       "      <th></th>\n",
       "      <th></th>\n",
       "      <th></th>\n",
       "      <th></th>\n",
       "      <th></th>\n",
       "      <th></th>\n",
       "      <th></th>\n",
       "      <th></th>\n",
       "      <th></th>\n",
       "    </tr>\n",
       "  </thead>\n",
       "  <tbody>\n",
       "    <tr>\n",
       "      <th rowspan=\"4\" valign=\"top\">mobile</th>\n",
       "      <th>android</th>\n",
       "      <td>74102</td>\n",
       "      <td>74013</td>\n",
       "      <td>74029</td>\n",
       "      <td>74102</td>\n",
       "      <td>74102</td>\n",
       "      <td>74102</td>\n",
       "      <td>74102</td>\n",
       "      <td>64566</td>\n",
       "      <td>64566</td>\n",
       "      <td>64566</td>\n",
       "      <td>64566</td>\n",
       "    </tr>\n",
       "    <tr>\n",
       "      <th>anroid</th>\n",
       "      <td>79</td>\n",
       "      <td>79</td>\n",
       "      <td>78</td>\n",
       "      <td>79</td>\n",
       "      <td>79</td>\n",
       "      <td>79</td>\n",
       "      <td>79</td>\n",
       "      <td>69</td>\n",
       "      <td>69</td>\n",
       "      <td>69</td>\n",
       "      <td>69</td>\n",
       "    </tr>\n",
       "    <tr>\n",
       "      <th>i0S</th>\n",
       "      <td>110</td>\n",
       "      <td>110</td>\n",
       "      <td>110</td>\n",
       "      <td>110</td>\n",
       "      <td>110</td>\n",
       "      <td>110</td>\n",
       "      <td>110</td>\n",
       "      <td>97</td>\n",
       "      <td>97</td>\n",
       "      <td>97</td>\n",
       "      <td>97</td>\n",
       "    </tr>\n",
       "    <tr>\n",
       "      <th>iOS</th>\n",
       "      <td>94302</td>\n",
       "      <td>94203</td>\n",
       "      <td>94213</td>\n",
       "      <td>94302</td>\n",
       "      <td>94302</td>\n",
       "      <td>94302</td>\n",
       "      <td>94302</td>\n",
       "      <td>81974</td>\n",
       "      <td>81974</td>\n",
       "      <td>81974</td>\n",
       "      <td>81974</td>\n",
       "    </tr>\n",
       "    <tr>\n",
       "      <th rowspan=\"4\" valign=\"top\">web</th>\n",
       "      <th>apple</th>\n",
       "      <td>29</td>\n",
       "      <td>29</td>\n",
       "      <td>29</td>\n",
       "      <td>29</td>\n",
       "      <td>29</td>\n",
       "      <td>29</td>\n",
       "      <td>29</td>\n",
       "      <td>23</td>\n",
       "      <td>23</td>\n",
       "      <td>23</td>\n",
       "      <td>23</td>\n",
       "    </tr>\n",
       "    <tr>\n",
       "      <th>mac</th>\n",
       "      <td>24790</td>\n",
       "      <td>24765</td>\n",
       "      <td>24763</td>\n",
       "      <td>24790</td>\n",
       "      <td>24790</td>\n",
       "      <td>24790</td>\n",
       "      <td>24790</td>\n",
       "      <td>21571</td>\n",
       "      <td>21571</td>\n",
       "      <td>21571</td>\n",
       "      <td>21571</td>\n",
       "    </tr>\n",
       "    <tr>\n",
       "      <th>windows</th>\n",
       "      <td>99767</td>\n",
       "      <td>99663</td>\n",
       "      <td>99663</td>\n",
       "      <td>99767</td>\n",
       "      <td>99767</td>\n",
       "      <td>99767</td>\n",
       "      <td>99767</td>\n",
       "      <td>86683</td>\n",
       "      <td>86683</td>\n",
       "      <td>86683</td>\n",
       "      <td>86683</td>\n",
       "    </tr>\n",
       "    <tr>\n",
       "      <th>wnddows</th>\n",
       "      <td>97</td>\n",
       "      <td>97</td>\n",
       "      <td>97</td>\n",
       "      <td>97</td>\n",
       "      <td>97</td>\n",
       "      <td>97</td>\n",
       "      <td>97</td>\n",
       "      <td>83</td>\n",
       "      <td>83</td>\n",
       "      <td>83</td>\n",
       "      <td>83</td>\n",
       "    </tr>\n",
       "  </tbody>\n",
       "</table>\n",
       "</div>"
      ],
      "text/plain": [
       "                         user_id  timestamp  source   test  price  converted  \\\n",
       "device operative_system                                                        \n",
       "mobile android             74102      74013   74029  74102  74102      74102   \n",
       "       anroid                 79         79      78     79     79         79   \n",
       "       i0S                   110        110     110    110    110        110   \n",
       "       iOS                 94302      94203   94213  94302  94302      94302   \n",
       "web    apple                  29         29      29     29     29         29   \n",
       "       mac                 24790      24765   24763  24790  24790      24790   \n",
       "       windows             99767      99663   99663  99767  99767      99767   \n",
       "       wnddows                97         97      97     97     97         97   \n",
       "\n",
       "                         revenue   city  country    lat   long  \n",
       "device operative_system                                         \n",
       "mobile android             74102  64566    64566  64566  64566  \n",
       "       anroid                 79     69       69     69     69  \n",
       "       i0S                   110     97       97     97     97  \n",
       "       iOS                 94302  81974    81974  81974  81974  \n",
       "web    apple                  29     23       23     23     23  \n",
       "       mac                 24790  21571    21571  21571  21571  \n",
       "       windows             99767  86683    86683  86683  86683  \n",
       "       wnddows                97     83       83     83     83  "
      ]
     },
     "execution_count": 30,
     "metadata": {},
     "output_type": "execute_result"
    }
   ],
   "source": [
    "merged_df.groupby(['device', 'operative_system']).count()"
   ]
  },
  {
   "cell_type": "markdown",
   "metadata": {},
   "source": [
    "Apple is a web device so it is Mac and not ioS"
   ]
  },
  {
   "cell_type": "code",
   "execution_count": 31,
   "metadata": {},
   "outputs": [],
   "source": [
    "# Correcting spelling mistakes\n",
    "merged_df.loc[merged_df['operative_system'] == 'wnddows', ['operative_system']] = 'windows'\n",
    "merged_df.loc[merged_df['operative_system']== 'i0S', ['operative_system']] = 'iOS'\n",
    "merged_df.loc[merged_df['operative_system']== 'anroid', ['operative_system']] = 'android'\n",
    "merged_df.loc[merged_df['operative_system']== 'apple', ['operative_system']] = 'mac'"
   ]
  },
  {
   "cell_type": "code",
   "execution_count": 32,
   "metadata": {},
   "outputs": [
    {
     "data": {
      "text/plain": [
       "windows    99864\n",
       "iOS        94412\n",
       "android    74181\n",
       "mac        24819\n",
       "Name: operative_system, dtype: int64"
      ]
     },
     "execution_count": 32,
     "metadata": {},
     "output_type": "execute_result"
    }
   ],
   "source": [
    "merged_df.operative_system.value_counts()"
   ]
  },
  {
   "cell_type": "code",
   "execution_count": 33,
   "metadata": {},
   "outputs": [
    {
     "data": {
      "text/plain": [
       "direct_traffic     59650\n",
       "ads-google         58705\n",
       "ads_facebook       52752\n",
       "ads_other          29522\n",
       "seo-google         22909\n",
       "ads-bing           22571\n",
       "seo_facebook       20952\n",
       "friend_referral    20459\n",
       "seo-other           9137\n",
       "ads-yahoo           7499\n",
       "seo-yahoo           6778\n",
       "seo-bing            2122\n",
       "Name: source, dtype: int64"
      ]
     },
     "execution_count": 33,
     "metadata": {},
     "output_type": "execute_result"
    }
   ],
   "source": [
    "merged_df.source.value_counts()"
   ]
  },
  {
   "cell_type": "code",
   "execution_count": 34,
   "metadata": {},
   "outputs": [
    {
     "data": {
      "text/plain": [
       "New York       25460\n",
       "Chicago         7087\n",
       "Houston         6631\n",
       "San Antonio     4576\n",
       "Los Angeles     4094\n",
       "               ...  \n",
       "New Milford        1\n",
       "Costa Mesa         1\n",
       "East Lake          1\n",
       "Ocala              1\n",
       "Cerritos           1\n",
       "Name: city, Length: 923, dtype: int64"
      ]
     },
     "execution_count": 34,
     "metadata": {},
     "output_type": "execute_result"
    }
   ],
   "source": [
    "merged_df.city.value_counts()"
   ]
  },
  {
   "cell_type": "code",
   "execution_count": 35,
   "metadata": {},
   "outputs": [
    {
     "data": {
      "text/plain": [
       "New York          25460\n",
       "Chicago            7087\n",
       "Houston            6631\n",
       "San Antonio        4576\n",
       "Los Angeles        4094\n",
       "San Jose           3323\n",
       "Indianapolis       3180\n",
       "Jacksonville       2871\n",
       "Philadelphia       2505\n",
       "Las Vegas          2405\n",
       "Austin             2265\n",
       "Seattle            2176\n",
       "Oklahoma City      1769\n",
       "Charlotte          1743\n",
       "Tucson             1712\n",
       "Virginia Beach     1695\n",
       "Oakland            1675\n",
       "Nashville          1565\n",
       "Mesa               1542\n",
       "Memphis            1518\n",
       "Minneapolis        1455\n",
       "Fort Worth         1415\n",
       "Buffalo            1295\n",
       "Raleigh            1282\n",
       "New Orleans        1253\n",
       "Springfield        1236\n",
       "Tampa              1209\n",
       "Dallas             1194\n",
       "Detroit            1168\n",
       "Plano              1067\n",
       "Name: city, dtype: int64"
      ]
     },
     "execution_count": 35,
     "metadata": {},
     "output_type": "execute_result"
    }
   ],
   "source": [
    "merged_df.city.value_counts().head(30)"
   ]
  },
  {
   "cell_type": "markdown",
   "metadata": {},
   "source": [
    "# Check randomization. Was the test truly randomized? "
   ]
  },
  {
   "cell_type": "markdown",
   "metadata": {},
   "source": [
    "### 1. Device randomized? "
   ]
  },
  {
   "cell_type": "markdown",
   "metadata": {},
   "source": [
    "Randomization can be verified through visualization of features"
   ]
  },
  {
   "cell_type": "code",
   "execution_count": 36,
   "metadata": {},
   "outputs": [
    {
     "data": {
      "text/html": [
       "<div>\n",
       "<style scoped>\n",
       "    .dataframe tbody tr th:only-of-type {\n",
       "        vertical-align: middle;\n",
       "    }\n",
       "\n",
       "    .dataframe tbody tr th {\n",
       "        vertical-align: top;\n",
       "    }\n",
       "\n",
       "    .dataframe thead th {\n",
       "        text-align: right;\n",
       "    }\n",
       "</style>\n",
       "<table border=\"1\" class=\"dataframe\">\n",
       "  <thead>\n",
       "    <tr style=\"text-align: right;\">\n",
       "      <th></th>\n",
       "      <th>mobile</th>\n",
       "      <th>web</th>\n",
       "    </tr>\n",
       "    <tr>\n",
       "      <th>test</th>\n",
       "      <th></th>\n",
       "      <th></th>\n",
       "    </tr>\n",
       "  </thead>\n",
       "  <tbody>\n",
       "    <tr>\n",
       "      <th>0</th>\n",
       "      <td>0.594423</td>\n",
       "      <td>0.405577</td>\n",
       "    </tr>\n",
       "    <tr>\n",
       "      <th>1</th>\n",
       "      <td>0.578407</td>\n",
       "      <td>0.421593</td>\n",
       "    </tr>\n",
       "  </tbody>\n",
       "</table>\n",
       "</div>"
      ],
      "text/plain": [
       "        mobile       web\n",
       "test                    \n",
       "0     0.594423  0.405577\n",
       "1     0.578407  0.421593"
      ]
     },
     "execution_count": 36,
     "metadata": {},
     "output_type": "execute_result"
    }
   ],
   "source": [
    "rand_device=merged_df.groupby('test')['device'].apply(lambda x: x.value_counts(normalize=True)).unstack()\n",
    "rand_device"
   ]
  },
  {
   "cell_type": "code",
   "execution_count": 37,
   "metadata": {},
   "outputs": [
    {
     "data": {
      "image/png": "[encoded data removed]",
      "text/plain": [
       "<Figure size 864x432 with 1 Axes>"
      ]
     },
     "metadata": {
      "needs_background": "light"
     },
     "output_type": "display_data"
    }
   ],
   "source": [
    "fig, ax = plt.subplots(figsize=(12,6))\n",
    "rand_device.plot(kind = 'bar', ax = ax)\n",
    "plt.show()"
   ]
  },
  {
   "cell_type": "markdown",
   "metadata": {},
   "source": [
    "### 2. Operative system randomized?"
   ]
  },
  {
   "cell_type": "code",
   "execution_count": 38,
   "metadata": {},
   "outputs": [
    {
     "data": {
      "text/html": [
       "<div>\n",
       "<style scoped>\n",
       "    .dataframe tbody tr th:only-of-type {\n",
       "        vertical-align: middle;\n",
       "    }\n",
       "\n",
       "    .dataframe tbody tr th {\n",
       "        vertical-align: top;\n",
       "    }\n",
       "\n",
       "    .dataframe thead th {\n",
       "        text-align: right;\n",
       "    }\n",
       "</style>\n",
       "<table border=\"1\" class=\"dataframe\">\n",
       "  <thead>\n",
       "    <tr style=\"text-align: right;\">\n",
       "      <th></th>\n",
       "      <th>windows</th>\n",
       "      <th>iOS</th>\n",
       "      <th>android</th>\n",
       "      <th>mac</th>\n",
       "    </tr>\n",
       "    <tr>\n",
       "      <th>test</th>\n",
       "      <th></th>\n",
       "      <th></th>\n",
       "      <th></th>\n",
       "      <th></th>\n",
       "    </tr>\n",
       "  </thead>\n",
       "  <tbody>\n",
       "    <tr>\n",
       "      <th>0</th>\n",
       "      <td>0.334502</td>\n",
       "      <td>0.325487</td>\n",
       "      <td>0.253864</td>\n",
       "      <td>0.086147</td>\n",
       "    </tr>\n",
       "    <tr>\n",
       "      <th>1</th>\n",
       "      <td>0.351251</td>\n",
       "      <td>0.315551</td>\n",
       "      <td>0.251288</td>\n",
       "      <td>0.081910</td>\n",
       "    </tr>\n",
       "  </tbody>\n",
       "</table>\n",
       "</div>"
      ],
      "text/plain": [
       "       windows       iOS   android       mac\n",
       "test                                        \n",
       "0     0.334502  0.325487  0.253864  0.086147\n",
       "1     0.351251  0.315551  0.251288  0.081910"
      ]
     },
     "execution_count": 38,
     "metadata": {},
     "output_type": "execute_result"
    }
   ],
   "source": [
    "rand_system = merged_df.groupby('test')['operative_system'].apply(lambda x: x.value_counts(normalize=True)).unstack()\n",
    "rand_system"
   ]
  },
  {
   "cell_type": "code",
   "execution_count": 39,
   "metadata": {},
   "outputs": [
    {
     "data": {
      "image/png": "[encoded data removed]",
      "text/plain": [
       "<Figure size 864x432 with 1 Axes>"
      ]
     },
     "metadata": {
      "needs_background": "light"
     },
     "output_type": "display_data"
    }
   ],
   "source": [
    "fig, ax = plt.subplots(figsize=(12,6))\n",
    "rand_system.plot(kind='bar', ax=ax)\n",
    "plt.show()"
   ]
  },
  {
   "cell_type": "markdown",
   "metadata": {},
   "source": [
    "### 3. Source randomized?"
   ]
  },
  {
   "cell_type": "code",
   "execution_count": 40,
   "metadata": {},
   "outputs": [
    {
     "data": {
      "text/html": [
       "<div>\n",
       "<style scoped>\n",
       "    .dataframe tbody tr th:only-of-type {\n",
       "        vertical-align: middle;\n",
       "    }\n",
       "\n",
       "    .dataframe tbody tr th {\n",
       "        vertical-align: top;\n",
       "    }\n",
       "\n",
       "    .dataframe thead th {\n",
       "        text-align: right;\n",
       "    }\n",
       "</style>\n",
       "<table border=\"1\" class=\"dataframe\">\n",
       "  <thead>\n",
       "    <tr style=\"text-align: right;\">\n",
       "      <th></th>\n",
       "      <th>ads-bing</th>\n",
       "      <th>ads-google</th>\n",
       "      <th>ads-yahoo</th>\n",
       "      <th>ads_facebook</th>\n",
       "      <th>ads_other</th>\n",
       "      <th>direct_traffic</th>\n",
       "      <th>friend_referral</th>\n",
       "      <th>seo-bing</th>\n",
       "      <th>seo-google</th>\n",
       "      <th>seo-other</th>\n",
       "      <th>seo-yahoo</th>\n",
       "      <th>seo_facebook</th>\n",
       "    </tr>\n",
       "    <tr>\n",
       "      <th>test</th>\n",
       "      <th></th>\n",
       "      <th></th>\n",
       "      <th></th>\n",
       "      <th></th>\n",
       "      <th></th>\n",
       "      <th></th>\n",
       "      <th></th>\n",
       "      <th></th>\n",
       "      <th></th>\n",
       "      <th></th>\n",
       "      <th></th>\n",
       "      <th></th>\n",
       "    </tr>\n",
       "  </thead>\n",
       "  <tbody>\n",
       "    <tr>\n",
       "      <th>0</th>\n",
       "      <td>0.071990</td>\n",
       "      <td>0.186982</td>\n",
       "      <td>0.023827</td>\n",
       "      <td>0.168085</td>\n",
       "      <td>0.095138</td>\n",
       "      <td>0.191204</td>\n",
       "      <td>0.064734</td>\n",
       "      <td>0.006562</td>\n",
       "      <td>0.074529</td>\n",
       "      <td>0.028986</td>\n",
       "      <td>0.021517</td>\n",
       "      <td>0.066446</td>\n",
       "    </tr>\n",
       "    <tr>\n",
       "      <th>1</th>\n",
       "      <td>0.072293</td>\n",
       "      <td>0.188483</td>\n",
       "      <td>0.024181</td>\n",
       "      <td>0.169256</td>\n",
       "      <td>0.092817</td>\n",
       "      <td>0.189362</td>\n",
       "      <td>0.066452</td>\n",
       "      <td>0.007164</td>\n",
       "      <td>0.070775</td>\n",
       "      <td>0.029542</td>\n",
       "      <td>0.021890</td>\n",
       "      <td>0.067784</td>\n",
       "    </tr>\n",
       "  </tbody>\n",
       "</table>\n",
       "</div>"
      ],
      "text/plain": [
       "      ads-bing  ads-google  ads-yahoo  ads_facebook  ads_other  \\\n",
       "test                                                             \n",
       "0     0.071990    0.186982   0.023827      0.168085   0.095138   \n",
       "1     0.072293    0.188483   0.024181      0.169256   0.092817   \n",
       "\n",
       "      direct_traffic  friend_referral  seo-bing  seo-google  seo-other  \\\n",
       "test                                                                     \n",
       "0           0.191204         0.064734  0.006562    0.074529   0.028986   \n",
       "1           0.189362         0.066452  0.007164    0.070775   0.029542   \n",
       "\n",
       "      seo-yahoo  seo_facebook  \n",
       "test                           \n",
       "0      0.021517      0.066446  \n",
       "1      0.021890      0.067784  "
      ]
     },
     "execution_count": 40,
     "metadata": {},
     "output_type": "execute_result"
    }
   ],
   "source": [
    "\n",
    "rand_source = merged_df.groupby('test')['source'].apply(lambda x: x.value_counts(normalize=True)).unstack()\n",
    "rand_source"
   ]
  },
  {
   "cell_type": "code",
   "execution_count": 41,
   "metadata": {},
   "outputs": [
    {
     "data": {
      "image/png": "[encoded data removed]",
      "text/plain": [
       "<Figure size 864x432 with 1 Axes>"
      ]
     },
     "metadata": {
      "needs_background": "light"
     },
     "output_type": "display_data"
    }
   ],
   "source": [
    "fig, ax = plt.subplots(figsize=(12,6))\n",
    "rand_source.plot(kind='bar', ax=ax)\n",
    "plt.show()"
   ]
  },
  {
   "cell_type": "markdown",
   "metadata": {},
   "source": [
    "### 4. Cities randomized?"
   ]
  },
  {
   "cell_type": "code",
   "execution_count": 42,
   "metadata": {},
   "outputs": [],
   "source": [
    "city_counts=merged_df.city.value_counts().head(30)\n",
    "city_counts=city_counts.reset_index()\n",
    "big30 =  city_counts['index']"
   ]
  },
  {
   "cell_type": "code",
   "execution_count": 43,
   "metadata": {},
   "outputs": [
    {
     "data": {
      "text/html": [
       "<div>\n",
       "<style scoped>\n",
       "    .dataframe tbody tr th:only-of-type {\n",
       "        vertical-align: middle;\n",
       "    }\n",
       "\n",
       "    .dataframe tbody tr th {\n",
       "        vertical-align: top;\n",
       "    }\n",
       "\n",
       "    .dataframe thead th {\n",
       "        text-align: right;\n",
       "    }\n",
       "</style>\n",
       "<table border=\"1\" class=\"dataframe\">\n",
       "  <thead>\n",
       "    <tr style=\"text-align: right;\">\n",
       "      <th></th>\n",
       "      <th>user_id</th>\n",
       "      <th>timestamp</th>\n",
       "      <th>source</th>\n",
       "      <th>device</th>\n",
       "      <th>operative_system</th>\n",
       "      <th>test</th>\n",
       "      <th>price</th>\n",
       "      <th>converted</th>\n",
       "      <th>revenue</th>\n",
       "      <th>city</th>\n",
       "      <th>country</th>\n",
       "      <th>lat</th>\n",
       "      <th>long</th>\n",
       "    </tr>\n",
       "  </thead>\n",
       "  <tbody>\n",
       "    <tr>\n",
       "      <th>0</th>\n",
       "      <td>604839</td>\n",
       "      <td>2015-05-08 03:38:34</td>\n",
       "      <td>ads_facebook</td>\n",
       "      <td>mobile</td>\n",
       "      <td>iOS</td>\n",
       "      <td>0</td>\n",
       "      <td>39.0</td>\n",
       "      <td>0</td>\n",
       "      <td>0.0</td>\n",
       "      <td>Buffalo</td>\n",
       "      <td>USA</td>\n",
       "      <td>42.89</td>\n",
       "      <td>-78.86</td>\n",
       "    </tr>\n",
       "    <tr>\n",
       "      <th>5</th>\n",
       "      <td>169971</td>\n",
       "      <td>2015-04-13 12:07:08</td>\n",
       "      <td>ads-google</td>\n",
       "      <td>mobile</td>\n",
       "      <td>iOS</td>\n",
       "      <td>0</td>\n",
       "      <td>39.0</td>\n",
       "      <td>0</td>\n",
       "      <td>0.0</td>\n",
       "      <td>New York</td>\n",
       "      <td>USA</td>\n",
       "      <td>40.67</td>\n",
       "      <td>-73.94</td>\n",
       "    </tr>\n",
       "    <tr>\n",
       "      <th>18</th>\n",
       "      <td>599771</td>\n",
       "      <td>2015-03-28 18:41:37</td>\n",
       "      <td>direct_traffic</td>\n",
       "      <td>mobile</td>\n",
       "      <td>iOS</td>\n",
       "      <td>1</td>\n",
       "      <td>59.0</td>\n",
       "      <td>0</td>\n",
       "      <td>0.0</td>\n",
       "      <td>Chicago</td>\n",
       "      <td>USA</td>\n",
       "      <td>41.84</td>\n",
       "      <td>-87.68</td>\n",
       "    </tr>\n",
       "    <tr>\n",
       "      <th>20</th>\n",
       "      <td>747762</td>\n",
       "      <td>2015-04-04 23:10:20</td>\n",
       "      <td>ads_facebook</td>\n",
       "      <td>mobile</td>\n",
       "      <td>iOS</td>\n",
       "      <td>0</td>\n",
       "      <td>39.0</td>\n",
       "      <td>0</td>\n",
       "      <td>0.0</td>\n",
       "      <td>New York</td>\n",
       "      <td>USA</td>\n",
       "      <td>40.67</td>\n",
       "      <td>-73.94</td>\n",
       "    </tr>\n",
       "    <tr>\n",
       "      <th>22</th>\n",
       "      <td>672422</td>\n",
       "      <td>2015-05-31 10:29:32</td>\n",
       "      <td>ads_other</td>\n",
       "      <td>web</td>\n",
       "      <td>windows</td>\n",
       "      <td>0</td>\n",
       "      <td>39.0</td>\n",
       "      <td>0</td>\n",
       "      <td>0.0</td>\n",
       "      <td>New York</td>\n",
       "      <td>USA</td>\n",
       "      <td>40.67</td>\n",
       "      <td>-73.94</td>\n",
       "    </tr>\n",
       "  </tbody>\n",
       "</table>\n",
       "</div>"
      ],
      "text/plain": [
       "    user_id            timestamp          source  device operative_system  \\\n",
       "0    604839  2015-05-08 03:38:34    ads_facebook  mobile              iOS   \n",
       "5    169971  2015-04-13 12:07:08      ads-google  mobile              iOS   \n",
       "18   599771  2015-03-28 18:41:37  direct_traffic  mobile              iOS   \n",
       "20   747762  2015-04-04 23:10:20    ads_facebook  mobile              iOS   \n",
       "22   672422  2015-05-31 10:29:32       ads_other     web          windows   \n",
       "\n",
       "    test  price  converted  revenue      city country    lat   long  \n",
       "0      0   39.0          0      0.0   Buffalo     USA  42.89 -78.86  \n",
       "5      0   39.0          0      0.0  New York     USA  40.67 -73.94  \n",
       "18     1   59.0          0      0.0   Chicago     USA  41.84 -87.68  \n",
       "20     0   39.0          0      0.0  New York     USA  40.67 -73.94  \n",
       "22     0   39.0          0      0.0  New York     USA  40.67 -73.94  "
      ]
     },
     "execution_count": 43,
     "metadata": {},
     "output_type": "execute_result"
    }
   ],
   "source": [
    "big30_df =  merged_df[merged_df.city.isin(big30)]\n",
    "big30_df.head(5)"
   ]
  },
  {
   "cell_type": "code",
   "execution_count": 44,
   "metadata": {},
   "outputs": [
    {
     "data": {
      "text/html": [
       "<div>\n",
       "<style scoped>\n",
       "    .dataframe tbody tr th:only-of-type {\n",
       "        vertical-align: middle;\n",
       "    }\n",
       "\n",
       "    .dataframe tbody tr th {\n",
       "        vertical-align: top;\n",
       "    }\n",
       "\n",
       "    .dataframe thead th {\n",
       "        text-align: right;\n",
       "    }\n",
       "</style>\n",
       "<table border=\"1\" class=\"dataframe\">\n",
       "  <thead>\n",
       "    <tr style=\"text-align: right;\">\n",
       "      <th></th>\n",
       "      <th>Austin</th>\n",
       "      <th>Buffalo</th>\n",
       "      <th>Charlotte</th>\n",
       "      <th>Chicago</th>\n",
       "      <th>Dallas</th>\n",
       "      <th>Detroit</th>\n",
       "      <th>Fort Worth</th>\n",
       "      <th>Houston</th>\n",
       "      <th>Indianapolis</th>\n",
       "      <th>Jacksonville</th>\n",
       "      <th>...</th>\n",
       "      <th>Philadelphia</th>\n",
       "      <th>Plano</th>\n",
       "      <th>Raleigh</th>\n",
       "      <th>San Antonio</th>\n",
       "      <th>San Jose</th>\n",
       "      <th>Seattle</th>\n",
       "      <th>Springfield</th>\n",
       "      <th>Tampa</th>\n",
       "      <th>Tucson</th>\n",
       "      <th>Virginia Beach</th>\n",
       "    </tr>\n",
       "    <tr>\n",
       "      <th>converted</th>\n",
       "      <th></th>\n",
       "      <th></th>\n",
       "      <th></th>\n",
       "      <th></th>\n",
       "      <th></th>\n",
       "      <th></th>\n",
       "      <th></th>\n",
       "      <th></th>\n",
       "      <th></th>\n",
       "      <th></th>\n",
       "      <th></th>\n",
       "      <th></th>\n",
       "      <th></th>\n",
       "      <th></th>\n",
       "      <th></th>\n",
       "      <th></th>\n",
       "      <th></th>\n",
       "      <th></th>\n",
       "      <th></th>\n",
       "      <th></th>\n",
       "      <th></th>\n",
       "    </tr>\n",
       "  </thead>\n",
       "  <tbody>\n",
       "    <tr>\n",
       "      <th>0</th>\n",
       "      <td>0.024266</td>\n",
       "      <td>0.014039</td>\n",
       "      <td>0.018855</td>\n",
       "      <td>0.076984</td>\n",
       "      <td>0.012926</td>\n",
       "      <td>0.012607</td>\n",
       "      <td>0.015317</td>\n",
       "      <td>0.071761</td>\n",
       "      <td>0.034547</td>\n",
       "      <td>0.031142</td>\n",
       "      <td>...</td>\n",
       "      <td>0.027098</td>\n",
       "      <td>0.011593</td>\n",
       "      <td>0.013896</td>\n",
       "      <td>0.049512</td>\n",
       "      <td>0.035991</td>\n",
       "      <td>0.023538</td>\n",
       "      <td>0.013444</td>\n",
       "      <td>0.013103</td>\n",
       "      <td>0.018491</td>\n",
       "      <td>0.018392</td>\n",
       "    </tr>\n",
       "    <tr>\n",
       "      <th>1</th>\n",
       "      <td>0.038889</td>\n",
       "      <td>0.012963</td>\n",
       "      <td>0.019753</td>\n",
       "      <td>0.062346</td>\n",
       "      <td>0.012963</td>\n",
       "      <td>0.014815</td>\n",
       "      <td>0.015432</td>\n",
       "      <td>0.073457</td>\n",
       "      <td>0.027778</td>\n",
       "      <td>0.027778</td>\n",
       "      <td>...</td>\n",
       "      <td>0.028395</td>\n",
       "      <td>0.009259</td>\n",
       "      <td>0.012963</td>\n",
       "      <td>0.051235</td>\n",
       "      <td>0.035185</td>\n",
       "      <td>0.024691</td>\n",
       "      <td>0.009877</td>\n",
       "      <td>0.012346</td>\n",
       "      <td>0.020988</td>\n",
       "      <td>0.016049</td>\n",
       "    </tr>\n",
       "  </tbody>\n",
       "</table>\n",
       "<p>2 rows × 30 columns</p>\n",
       "</div>"
      ],
      "text/plain": [
       "             Austin   Buffalo  Charlotte   Chicago    Dallas   Detroit  \\\n",
       "converted                                                                \n",
       "0          0.024266  0.014039   0.018855  0.076984  0.012926  0.012607   \n",
       "1          0.038889  0.012963   0.019753  0.062346  0.012963  0.014815   \n",
       "\n",
       "           Fort Worth   Houston  Indianapolis  Jacksonville  ...  \\\n",
       "converted                                                    ...   \n",
       "0            0.015317  0.071761      0.034547      0.031142  ...   \n",
       "1            0.015432  0.073457      0.027778      0.027778  ...   \n",
       "\n",
       "           Philadelphia     Plano   Raleigh  San Antonio  San Jose   Seattle  \\\n",
       "converted                                                                      \n",
       "0              0.027098  0.011593  0.013896     0.049512  0.035991  0.023538   \n",
       "1              0.028395  0.009259  0.012963     0.051235  0.035185  0.024691   \n",
       "\n",
       "           Springfield     Tampa    Tucson  Virginia Beach  \n",
       "converted                                                   \n",
       "0             0.013444  0.013103  0.018491        0.018392  \n",
       "1             0.009877  0.012346  0.020988        0.016049  \n",
       "\n",
       "[2 rows x 30 columns]"
      ]
     },
     "execution_count": 44,
     "metadata": {},
     "output_type": "execute_result"
    }
   ],
   "source": [
    "rand_city = big30_df.groupby('converted')['city'].apply(lambda x: x.value_counts(normalize=True)).unstack()\n",
    "rand_city"
   ]
  },
  {
   "cell_type": "code",
   "execution_count": 45,
   "metadata": {},
   "outputs": [
    {
     "data": {
      "image/png": "[encoded data removed]",
      "text/plain": [
       "<Figure size 864x720 with 1 Axes>"
      ]
     },
     "metadata": {
      "needs_background": "light"
     },
     "output_type": "display_data"
    }
   ],
   "source": [
    "fig, ax = plt.subplots(figsize = (12,10))\n",
    "rand_city.plot(kind='bar', ax=ax)\n",
    "plt.show()"
   ]
  },
  {
   "cell_type": "markdown",
   "metadata": {},
   "source": [
    "The test appears to be random which is necessary for efficient A/B testing "
   ]
  },
  {
   "cell_type": "markdown",
   "metadata": {},
   "source": [
    "### Simple scatter plot of locations of test"
   ]
  },
  {
   "cell_type": "code",
   "execution_count": 85,
   "metadata": {},
   "outputs": [
    {
     "name": "stdout",
     "output_type": "stream",
     "text": [
      "61.18\n",
      "19.7\n",
      "30.31\n",
      "-157.8\n"
     ]
    },
    {
     "data": {
      "image/png": "[encoded data removed]",
      "text/plain": [
       "<Figure size 432x288 with 1 Axes>"
      ]
     },
     "metadata": {
      "needs_background": "light"
     },
     "output_type": "display_data"
    }
   ],
   "source": [
    "print(merged_df.loc[merged_df['country']=='USA','lat'].max())\n",
    "print(merged_df.loc[merged_df['country']=='USA','lat'].min())\n",
    "print(merged_df.loc[merged_df['country']=='USA','long'].max())\n",
    "print(merged_df.loc[merged_df['country']=='USA','long'].min())\n",
    "\n",
    "plt.scatter(merged_df.loc[merged_df['country']=='USA','long'],merged_df.loc[merged_df['country']=='USA','lat'])\n",
    "plt.xlim([-130,-70])\n",
    "plt.ylim([25,50])\n",
    "plt.show()"
   ]
  },
  {
   "cell_type": "markdown",
   "metadata": {},
   "source": [
    "# Question 1"
   ]
  },
  {
   "cell_type": "markdown",
   "metadata": {},
   "source": [
    "1. Should the company sell its software for  $\\$39$  or  $\\$59$ ?"
   ]
  },
  {
   "cell_type": "code",
   "execution_count": 46,
   "metadata": {},
   "outputs": [],
   "source": [
    "import scipy\n",
    "from scipy.stats import ttest_ind, fisher_exact\n"
   ]
  },
  {
   "cell_type": "code",
   "execution_count": 47,
   "metadata": {},
   "outputs": [
    {
     "data": {
      "text/html": [
       "<div>\n",
       "<style scoped>\n",
       "    .dataframe tbody tr th:only-of-type {\n",
       "        vertical-align: middle;\n",
       "    }\n",
       "\n",
       "    .dataframe tbody tr th {\n",
       "        vertical-align: top;\n",
       "    }\n",
       "\n",
       "    .dataframe thead th {\n",
       "        text-align: right;\n",
       "    }\n",
       "</style>\n",
       "<table border=\"1\" class=\"dataframe\">\n",
       "  <thead>\n",
       "    <tr style=\"text-align: right;\">\n",
       "      <th></th>\n",
       "      <th>converted</th>\n",
       "    </tr>\n",
       "    <tr>\n",
       "      <th>test</th>\n",
       "      <th></th>\n",
       "    </tr>\n",
       "  </thead>\n",
       "  <tbody>\n",
       "    <tr>\n",
       "      <th>0</th>\n",
       "      <td>0.019886</td>\n",
       "    </tr>\n",
       "    <tr>\n",
       "      <th>1</th>\n",
       "      <td>0.015554</td>\n",
       "    </tr>\n",
       "  </tbody>\n",
       "</table>\n",
       "</div>"
      ],
      "text/plain": [
       "      converted\n",
       "test           \n",
       "0      0.019886\n",
       "1      0.015554"
      ]
     },
     "execution_count": 47,
     "metadata": {},
     "output_type": "execute_result"
    }
   ],
   "source": [
    "# The average conversion rate\n",
    "merged_df[['test', 'converted']].groupby('test').mean()"
   ]
  },
  {
   "cell_type": "code",
   "execution_count": 48,
   "metadata": {},
   "outputs": [
    {
     "data": {
      "text/html": [
       "<div>\n",
       "<style scoped>\n",
       "    .dataframe tbody tr th:only-of-type {\n",
       "        vertical-align: middle;\n",
       "    }\n",
       "\n",
       "    .dataframe tbody tr th {\n",
       "        vertical-align: top;\n",
       "    }\n",
       "\n",
       "    .dataframe thead th {\n",
       "        text-align: right;\n",
       "    }\n",
       "</style>\n",
       "<table border=\"1\" class=\"dataframe\">\n",
       "  <thead>\n",
       "    <tr style=\"text-align: right;\">\n",
       "      <th></th>\n",
       "      <th>revenue</th>\n",
       "    </tr>\n",
       "    <tr>\n",
       "      <th>test</th>\n",
       "      <th></th>\n",
       "    </tr>\n",
       "  </thead>\n",
       "  <tbody>\n",
       "    <tr>\n",
       "      <th>0</th>\n",
       "      <td>0.775555</td>\n",
       "    </tr>\n",
       "    <tr>\n",
       "      <th>1</th>\n",
       "      <td>0.917673</td>\n",
       "    </tr>\n",
       "  </tbody>\n",
       "</table>\n",
       "</div>"
      ],
      "text/plain": [
       "       revenue\n",
       "test          \n",
       "0     0.775555\n",
       "1     0.917673"
      ]
     },
     "execution_count": 48,
     "metadata": {},
     "output_type": "execute_result"
    }
   ],
   "source": [
    "# The average revenue \n",
    "merged_df[['test', 'revenue']].groupby('test').mean()"
   ]
  },
  {
   "cell_type": "markdown",
   "metadata": {},
   "source": [
    "On average, about 1.99% of the control group (lower price) customers bought the product. On the other hand, 1.55% of the customers in the test group has a lower conversion rate with 1.55% of customers buying the product with a new price. However, the average revenue for higher price ($0.918$) is actually larger than the lower price ($0.776$).   This difference appears significant but can we say for certain that it is significant? There is the need to do A/B testing "
   ]
  },
  {
   "cell_type": "markdown",
   "metadata": {},
   "source": [
    "### A/B testing"
   ]
  },
  {
   "cell_type": "markdown",
   "metadata": {},
   "source": [
    "- Null hypothesis: Increasing the price would not increase revenue (Test group average revenue is equal to or less than of control group). \n",
    "\n",
    "- Alternative hypothesis: Increasing the price would increase revenue (Test group average revenue is greater than that of control group)"
   ]
  },
  {
   "cell_type": "code",
   "execution_count": 50,
   "metadata": {},
   "outputs": [
    {
     "data": {
      "text/plain": [
       "(-5.70555247970994, 1.1614335465514394e-08)"
      ]
     },
     "execution_count": 50,
     "metadata": {},
     "output_type": "execute_result"
    }
   ],
   "source": [
    "cont_group = merged_df[merged_df['test']==0]['revenue'].values\n",
    "exp_group = merged_df[merged_df['test']==1]['revenue'].values\n",
    "\n",
    "#from scipy.stats import ttest_ind\n",
    "stat, pvalue = ttest_ind(cont_group, exp_group, axis=0, equal_var=False)\n",
    "stat, pvalue"
   ]
  },
  {
   "cell_type": "markdown",
   "metadata": {},
   "source": [
    "However, the t-test is a two-tailed test but the problem requires a one-tailed test"
   ]
  },
  {
   "cell_type": "code",
   "execution_count": 51,
   "metadata": {},
   "outputs": [
    {
     "name": "stdout",
     "output_type": "stream",
     "text": [
      "Test rejects the null hypothesis\n"
     ]
    }
   ],
   "source": [
    "alpha = 0.05 # set alpha \n",
    "\n",
    "if pvalue/2 < alpha:\n",
    "    print('Test rejects the null hypothesis')\n",
    "else:\n",
    "    print('The test fails to reject the null hypothesis')"
   ]
  },
  {
   "cell_type": "markdown",
   "metadata": {},
   "source": [
    "Based on the test results, we safely can reject the null hypothesis, and conclude that the test or experimental group's average revenue is higher than control group's average revenue. The test suggests that $\\$59$ price can give us higher average revenue. "
   ]
  },
  {
   "cell_type": "markdown",
   "metadata": {},
   "source": [
    "## Question 2"
   ]
  },
  {
   "cell_type": "markdown",
   "metadata": {},
   "source": [
    "2. The VP of Product is interested in having a holistic view into user behavior, especially focusing on actionable insights that might increase conversion rate. What are your main findings looking at the data?"
   ]
  },
  {
   "cell_type": "markdown",
   "metadata": {},
   "source": [
    "### Device"
   ]
  },
  {
   "cell_type": "code",
   "execution_count": 52,
   "metadata": {},
   "outputs": [
    {
     "data": {
      "text/html": [
       "<div>\n",
       "<style scoped>\n",
       "    .dataframe tbody tr th:only-of-type {\n",
       "        vertical-align: middle;\n",
       "    }\n",
       "\n",
       "    .dataframe tbody tr th {\n",
       "        vertical-align: top;\n",
       "    }\n",
       "\n",
       "    .dataframe thead th {\n",
       "        text-align: right;\n",
       "    }\n",
       "</style>\n",
       "<table border=\"1\" class=\"dataframe\">\n",
       "  <thead>\n",
       "    <tr style=\"text-align: right;\">\n",
       "      <th></th>\n",
       "      <th>device</th>\n",
       "      <th>converted</th>\n",
       "    </tr>\n",
       "  </thead>\n",
       "  <tbody>\n",
       "    <tr>\n",
       "      <th>0</th>\n",
       "      <td>mobile</td>\n",
       "      <td>0.018540</td>\n",
       "    </tr>\n",
       "    <tr>\n",
       "      <th>1</th>\n",
       "      <td>web</td>\n",
       "      <td>0.018022</td>\n",
       "    </tr>\n",
       "  </tbody>\n",
       "</table>\n",
       "</div>"
      ],
      "text/plain": [
       "   device  converted\n",
       "0  mobile   0.018540\n",
       "1     web   0.018022"
      ]
     },
     "execution_count": 52,
     "metadata": {},
     "output_type": "execute_result"
    }
   ],
   "source": [
    "merged_df.groupby('device')['converted'].mean().reset_index()"
   ]
  },
  {
   "cell_type": "code",
   "execution_count": 53,
   "metadata": {},
   "outputs": [
    {
     "data": {
      "image/png": "[encoded data removed]",
      "text/plain": [
       "<Figure size 864x432 with 1 Axes>"
      ]
     },
     "metadata": {
      "needs_background": "light"
     },
     "output_type": "display_data"
    }
   ],
   "source": [
    "fig, ax = plt.subplots(figsize=(12,6))\n",
    "sns.barplot(x = 'device', y = 'converted', data=merged_df, ax =ax)\n",
    "ax.set_title('Mean Conversion Rate vs. Device', fontsize=16)\n",
    "plt.show()"
   ]
  },
  {
   "cell_type": "code",
   "execution_count": 54,
   "metadata": {},
   "outputs": [
    {
     "data": {
      "image/png": "[encoded data removed]",
      "text/plain": [
       "<Figure size 864x432 with 1 Axes>"
      ]
     },
     "metadata": {
      "needs_background": "light"
     },
     "output_type": "display_data"
    }
   ],
   "source": [
    "fig, ax = plt.subplots(figsize=(12, 6))\n",
    "sns.barplot(x='device', y='converted', hue = 'test', data=merged_df, ax=ax)\n",
    "ax.set_title('Mean Conversion Rate vs. Device', fontsize=16)\n",
    "plt.show()"
   ]
  },
  {
   "cell_type": "markdown",
   "metadata": {},
   "source": [
    "### Operative System"
   ]
  },
  {
   "cell_type": "code",
   "execution_count": 55,
   "metadata": {},
   "outputs": [
    {
     "data": {
      "text/html": [
       "<div>\n",
       "<style scoped>\n",
       "    .dataframe tbody tr th:only-of-type {\n",
       "        vertical-align: middle;\n",
       "    }\n",
       "\n",
       "    .dataframe tbody tr th {\n",
       "        vertical-align: top;\n",
       "    }\n",
       "\n",
       "    .dataframe thead th {\n",
       "        text-align: right;\n",
       "    }\n",
       "</style>\n",
       "<table border=\"1\" class=\"dataframe\">\n",
       "  <thead>\n",
       "    <tr style=\"text-align: right;\">\n",
       "      <th></th>\n",
       "      <th>operative_system</th>\n",
       "      <th>converted</th>\n",
       "    </tr>\n",
       "  </thead>\n",
       "  <tbody>\n",
       "    <tr>\n",
       "      <th>0</th>\n",
       "      <td>android</td>\n",
       "      <td>0.014923</td>\n",
       "    </tr>\n",
       "    <tr>\n",
       "      <th>1</th>\n",
       "      <td>iOS</td>\n",
       "      <td>0.022317</td>\n",
       "    </tr>\n",
       "    <tr>\n",
       "      <th>2</th>\n",
       "      <td>mac</td>\n",
       "      <td>0.023933</td>\n",
       "    </tr>\n",
       "    <tr>\n",
       "      <th>3</th>\n",
       "      <td>windows</td>\n",
       "      <td>0.016973</td>\n",
       "    </tr>\n",
       "  </tbody>\n",
       "</table>\n",
       "</div>"
      ],
      "text/plain": [
       "  operative_system  converted\n",
       "0          android   0.014923\n",
       "1              iOS   0.022317\n",
       "2              mac   0.023933\n",
       "3          windows   0.016973"
      ]
     },
     "execution_count": 55,
     "metadata": {},
     "output_type": "execute_result"
    }
   ],
   "source": [
    "merged_df.groupby('operative_system')['converted'].mean().reset_index()"
   ]
  },
  {
   "cell_type": "code",
   "execution_count": 56,
   "metadata": {},
   "outputs": [
    {
     "data": {
      "image/png": "[encoded data removed]",
      "text/plain": [
       "<Figure size 864x432 with 1 Axes>"
      ]
     },
     "metadata": {
      "needs_background": "light"
     },
     "output_type": "display_data"
    }
   ],
   "source": [
    "fig, ax = plt.subplots(figsize=(12,6))\n",
    "sns.barplot(x='operative_system', y='converted', data= merged_df, ax=ax)\n",
    "ax.set_title('Mean Conversion Rate vs. Operative System', fontsize=16)\n",
    "plt.show()"
   ]
  },
  {
   "cell_type": "code",
   "execution_count": 57,
   "metadata": {},
   "outputs": [
    {
     "data": {
      "image/png": "[encoded data removed]",
      "text/plain": [
       "<Figure size 864x432 with 1 Axes>"
      ]
     },
     "metadata": {
      "needs_background": "light"
     },
     "output_type": "display_data"
    }
   ],
   "source": [
    "fig, ax = plt.subplots(figsize=(12,6))\n",
    "sns.barplot(x='operative_system', y='converted', hue='test',data=merged_df, ax=ax)\n",
    "ax.set_title('Mean Conversion Rate vs Operative System', fontsize=16)\n",
    "plt.show()"
   ]
  },
  {
   "cell_type": "code",
   "execution_count": 58,
   "metadata": {},
   "outputs": [
    {
     "data": {
      "text/html": [
       "<div>\n",
       "<style scoped>\n",
       "    .dataframe tbody tr th:only-of-type {\n",
       "        vertical-align: middle;\n",
       "    }\n",
       "\n",
       "    .dataframe tbody tr th {\n",
       "        vertical-align: top;\n",
       "    }\n",
       "\n",
       "    .dataframe thead th {\n",
       "        text-align: right;\n",
       "    }\n",
       "</style>\n",
       "<table border=\"1\" class=\"dataframe\">\n",
       "  <thead>\n",
       "    <tr style=\"text-align: right;\">\n",
       "      <th></th>\n",
       "      <th>source</th>\n",
       "      <th>converted</th>\n",
       "    </tr>\n",
       "  </thead>\n",
       "  <tbody>\n",
       "    <tr>\n",
       "      <th>0</th>\n",
       "      <td>ads-bing</td>\n",
       "      <td>0.012007</td>\n",
       "    </tr>\n",
       "    <tr>\n",
       "      <th>1</th>\n",
       "      <td>ads-google</td>\n",
       "      <td>0.021548</td>\n",
       "    </tr>\n",
       "    <tr>\n",
       "      <th>2</th>\n",
       "      <td>ads-yahoo</td>\n",
       "      <td>0.014802</td>\n",
       "    </tr>\n",
       "    <tr>\n",
       "      <th>3</th>\n",
       "      <td>ads_facebook</td>\n",
       "      <td>0.021099</td>\n",
       "    </tr>\n",
       "    <tr>\n",
       "      <th>4</th>\n",
       "      <td>ads_other</td>\n",
       "      <td>0.014464</td>\n",
       "    </tr>\n",
       "    <tr>\n",
       "      <th>5</th>\n",
       "      <td>direct_traffic</td>\n",
       "      <td>0.012372</td>\n",
       "    </tr>\n",
       "    <tr>\n",
       "      <th>6</th>\n",
       "      <td>friend_referral</td>\n",
       "      <td>0.038809</td>\n",
       "    </tr>\n",
       "    <tr>\n",
       "      <th>7</th>\n",
       "      <td>seo-bing</td>\n",
       "      <td>0.024034</td>\n",
       "    </tr>\n",
       "    <tr>\n",
       "      <th>8</th>\n",
       "      <td>seo-google</td>\n",
       "      <td>0.016806</td>\n",
       "    </tr>\n",
       "    <tr>\n",
       "      <th>9</th>\n",
       "      <td>seo-other</td>\n",
       "      <td>0.015760</td>\n",
       "    </tr>\n",
       "    <tr>\n",
       "      <th>10</th>\n",
       "      <td>seo-yahoo</td>\n",
       "      <td>0.016229</td>\n",
       "    </tr>\n",
       "    <tr>\n",
       "      <th>11</th>\n",
       "      <td>seo_facebook</td>\n",
       "      <td>0.015893</td>\n",
       "    </tr>\n",
       "  </tbody>\n",
       "</table>\n",
       "</div>"
      ],
      "text/plain": [
       "             source  converted\n",
       "0          ads-bing   0.012007\n",
       "1        ads-google   0.021548\n",
       "2         ads-yahoo   0.014802\n",
       "3      ads_facebook   0.021099\n",
       "4         ads_other   0.014464\n",
       "5    direct_traffic   0.012372\n",
       "6   friend_referral   0.038809\n",
       "7          seo-bing   0.024034\n",
       "8        seo-google   0.016806\n",
       "9         seo-other   0.015760\n",
       "10        seo-yahoo   0.016229\n",
       "11     seo_facebook   0.015893"
      ]
     },
     "execution_count": 58,
     "metadata": {},
     "output_type": "execute_result"
    }
   ],
   "source": [
    "merged_df.groupby('source')['converted'].mean().reset_index()"
   ]
  },
  {
   "cell_type": "code",
   "execution_count": 59,
   "metadata": {},
   "outputs": [
    {
     "data": {
      "image/png": "[encoded data removed]",
      "text/plain": [
       "<Figure size 1152x432 with 1 Axes>"
      ]
     },
     "metadata": {
      "needs_background": "light"
     },
     "output_type": "display_data"
    }
   ],
   "source": [
    "fig, ax = plt.subplots(figsize = (16,6))\n",
    "sns.barplot(x= 'source', y='converted', data=merged_df, ax=ax)\n",
    "ax.set_title('Mean Conversion Rate vs Source', fontsize = 16)\n",
    "plt.show()"
   ]
  },
  {
   "cell_type": "code",
   "execution_count": 60,
   "metadata": {},
   "outputs": [
    {
     "data": {
      "image/png": "[encoded data removed]",
      "text/plain": [
       "<Figure size 1152x432 with 1 Axes>"
      ]
     },
     "metadata": {
      "needs_background": "light"
     },
     "output_type": "display_data"
    }
   ],
   "source": [
    "fig, ax = plt.subplots(figsize=(16,6))\n",
    "sns.barplot(x='source', y = 'converted', hue = 'test', data=merged_df, ax = ax)\n",
    "ax.set_title('Mean Conversion Rate vs Source', fontsize = 16)\n",
    "plt.show()"
   ]
  },
  {
   "cell_type": "markdown",
   "metadata": {},
   "source": [
    "### Cities (consider company's 30 largest markets given customers)"
   ]
  },
  {
   "cell_type": "code",
   "execution_count": 61,
   "metadata": {},
   "outputs": [
    {
     "data": {
      "image/png": "[encoded data removed]",
      "text/plain": [
       "<Figure size 1368x1440 with 1 Axes>"
      ]
     },
     "metadata": {
      "needs_background": "light"
     },
     "output_type": "display_data"
    }
   ],
   "source": [
    "fig, ax = plt.subplots(figsize = (19,20))\n",
    "sns.barplot(y = 'city', x = 'converted', data=big30_df, ax=ax)\n",
    "ax.set_title('Mean Conversion Rate vs City (30 largest markets)', fontsize = 16)\n",
    "plt.show()"
   ]
  },
  {
   "cell_type": "code",
   "execution_count": 62,
   "metadata": {},
   "outputs": [
    {
     "data": {
      "image/png": "[encoded data removed]",
      "text/plain": [
       "<Figure size 1440x1440 with 1 Axes>"
      ]
     },
     "metadata": {
      "needs_background": "light"
     },
     "output_type": "display_data"
    }
   ],
   "source": [
    "fig, ax = plt.subplots(figsize = (20,20))\n",
    "sns.barplot(y = 'city', x = 'converted', hue = 'test', data=big30_df, ax=ax)\n",
    "ax.set_title('Mean Conversion Rate vs City (30 largest markets)', fontsize = 16)\n",
    "plt.show()"
   ]
  },
  {
   "cell_type": "markdown",
   "metadata": {},
   "source": [
    "Main findings from the data focused on actionable insights that might increase conversion rate.\n",
    "- Source:\n",
    "    - Friend-referral users had the highest conversion rate with a much higher rate than other sources for both old and new prices. More advertisements and incentives or rewards should be given to current users to encourage friend-referrals\n",
    "- Operative System\n",
    "    - Apple (iOS and Mac) users had higher conversion rates compared to their android and web counterparts for both old and new prices. Thus we should focus on improved targeted advertisements for these users  \n",
    "- Device: \n",
    "    -  Mobile has a slightly better conversion rate than web for new prices. \n",
    "- Cities:\n",
    "    - Markets such as Austin, Dallas, Forth Worth, Las Vegas San Jose, Mesa and Raleigh experienced an increase in conversion rate despite the increase in prices. These markets should be targeted during the full launch of new prices and further analysis on why it's succeeding in these markets might be needed in order to help with other markets."
   ]
  },
  {
   "cell_type": "markdown",
   "metadata": {},
   "source": [
    "### Question 3"
   ]
  },
  {
   "cell_type": "markdown",
   "metadata": {},
   "source": [
    "3. The VP of Product feels that the test has been running for too long and she should have been able to get statistically significant results in a shorter time. Do you agree with her intuition? After how many days would you have stopped the test? Please, explain why."
   ]
  },
  {
   "cell_type": "code",
   "execution_count": 63,
   "metadata": {},
   "outputs": [],
   "source": [
    "merged_df['timestamp'] = merged_df['timestamp'].str.replace('60','59') \n",
    "merged_df['timestamp'] = pd.to_datetime(merged_df['timestamp'], errors='coerce')"
   ]
  },
  {
   "cell_type": "markdown",
   "metadata": {},
   "source": [
    "Replace all minute 60 with 59 or 00? Hmmm I went with 59"
   ]
  },
  {
   "cell_type": "code",
   "execution_count": 68,
   "metadata": {},
   "outputs": [
    {
     "data": {
      "text/html": [
       "<div>\n",
       "<style scoped>\n",
       "    .dataframe tbody tr th:only-of-type {\n",
       "        vertical-align: middle;\n",
       "    }\n",
       "\n",
       "    .dataframe tbody tr th {\n",
       "        vertical-align: top;\n",
       "    }\n",
       "\n",
       "    .dataframe thead th {\n",
       "        text-align: right;\n",
       "    }\n",
       "</style>\n",
       "<table border=\"1\" class=\"dataframe\">\n",
       "  <thead>\n",
       "    <tr style=\"text-align: right;\">\n",
       "      <th></th>\n",
       "      <th>test</th>\n",
       "      <th>timestamp</th>\n",
       "    </tr>\n",
       "  </thead>\n",
       "  <tbody>\n",
       "    <tr>\n",
       "      <th>0</th>\n",
       "      <td>0</td>\n",
       "      <td>2015-03-02 00:12:40</td>\n",
       "    </tr>\n",
       "    <tr>\n",
       "      <th>1</th>\n",
       "      <td>1</td>\n",
       "      <td>2015-03-02 00:04:12</td>\n",
       "    </tr>\n",
       "  </tbody>\n",
       "</table>\n",
       "</div>"
      ],
      "text/plain": [
       "   test           timestamp\n",
       "0     0 2015-03-02 00:12:40\n",
       "1     1 2015-03-02 00:04:12"
      ]
     },
     "execution_count": 68,
     "metadata": {},
     "output_type": "execute_result"
    }
   ],
   "source": [
    "merged_df.groupby('test').timestamp.min().reset_index()"
   ]
  },
  {
   "cell_type": "code",
   "execution_count": 69,
   "metadata": {},
   "outputs": [
    {
     "data": {
      "text/html": [
       "<div>\n",
       "<style scoped>\n",
       "    .dataframe tbody tr th:only-of-type {\n",
       "        vertical-align: middle;\n",
       "    }\n",
       "\n",
       "    .dataframe tbody tr th {\n",
       "        vertical-align: top;\n",
       "    }\n",
       "\n",
       "    .dataframe thead th {\n",
       "        text-align: right;\n",
       "    }\n",
       "</style>\n",
       "<table border=\"1\" class=\"dataframe\">\n",
       "  <thead>\n",
       "    <tr style=\"text-align: right;\">\n",
       "      <th></th>\n",
       "      <th>test</th>\n",
       "      <th>timestamp</th>\n",
       "    </tr>\n",
       "  </thead>\n",
       "  <tbody>\n",
       "    <tr>\n",
       "      <th>0</th>\n",
       "      <td>0</td>\n",
       "      <td>2015-05-31 23:59:45</td>\n",
       "    </tr>\n",
       "    <tr>\n",
       "      <th>1</th>\n",
       "      <td>1</td>\n",
       "      <td>2015-05-31 23:53:22</td>\n",
       "    </tr>\n",
       "  </tbody>\n",
       "</table>\n",
       "</div>"
      ],
      "text/plain": [
       "   test           timestamp\n",
       "0     0 2015-05-31 23:59:45\n",
       "1     1 2015-05-31 23:53:22"
      ]
     },
     "execution_count": 69,
     "metadata": {},
     "output_type": "execute_result"
    }
   ],
   "source": [
    "merged_df.groupby('test').timestamp.max().reset_index()"
   ]
  },
  {
   "cell_type": "code",
   "execution_count": 70,
   "metadata": {},
   "outputs": [
    {
     "data": {
      "text/plain": [
       "Timedelta('90 days 23:55:33')"
      ]
     },
     "execution_count": 70,
     "metadata": {},
     "output_type": "execute_result"
    }
   ],
   "source": [
    "# Duration of the study/test\n",
    "merged_df.timestamp.max()-merged_df.timestamp.min()"
   ]
  },
  {
   "cell_type": "markdown",
   "metadata": {},
   "source": [
    "The original study took just over 90 days (about 3 months) but could we have stopped the test after 2 weeks? "
   ]
  },
  {
   "cell_type": "code",
   "execution_count": 73,
   "metadata": {},
   "outputs": [
    {
     "data": {
      "text/plain": [
       "Timestamp('2015-03-16 00:04:12')"
      ]
     },
     "execution_count": 73,
     "metadata": {},
     "output_type": "execute_result"
    }
   ],
   "source": [
    "from datetime import timedelta, date\n",
    "merged_df.timestamp.min() + timedelta(days=14)"
   ]
  },
  {
   "cell_type": "code",
   "execution_count": 74,
   "metadata": {},
   "outputs": [],
   "source": [
    "twoweekslater=merged_df.timestamp.min() + timedelta(days=14)"
   ]
  },
  {
   "cell_type": "code",
   "execution_count": 76,
   "metadata": {},
   "outputs": [],
   "source": [
    "# Creates data set of only observations from 2 weeks \n",
    "fornight_df=merged_df[merged_df['timestamp']<=twoweekslater]"
   ]
  },
  {
   "cell_type": "code",
   "execution_count": 83,
   "metadata": {},
   "outputs": [
    {
     "data": {
      "text/html": [
       "<div>\n",
       "<style scoped>\n",
       "    .dataframe tbody tr th:only-of-type {\n",
       "        vertical-align: middle;\n",
       "    }\n",
       "\n",
       "    .dataframe tbody tr th {\n",
       "        vertical-align: top;\n",
       "    }\n",
       "\n",
       "    .dataframe thead th {\n",
       "        text-align: right;\n",
       "    }\n",
       "</style>\n",
       "<table border=\"1\" class=\"dataframe\">\n",
       "  <thead>\n",
       "    <tr style=\"text-align: right;\">\n",
       "      <th></th>\n",
       "      <th>revenue</th>\n",
       "    </tr>\n",
       "    <tr>\n",
       "      <th>test</th>\n",
       "      <th></th>\n",
       "    </tr>\n",
       "  </thead>\n",
       "  <tbody>\n",
       "    <tr>\n",
       "      <th>0</th>\n",
       "      <td>0.756563</td>\n",
       "    </tr>\n",
       "    <tr>\n",
       "      <th>1</th>\n",
       "      <td>0.975376</td>\n",
       "    </tr>\n",
       "  </tbody>\n",
       "</table>\n",
       "</div>"
      ],
      "text/plain": [
       "       revenue\n",
       "test          \n",
       "0     0.756563\n",
       "1     0.975376"
      ]
     },
     "execution_count": 83,
     "metadata": {},
     "output_type": "execute_result"
    }
   ],
   "source": [
    "# Check the average revenue \n",
    "fornight_df[['test', 'revenue']].groupby('test').mean()"
   ]
  },
  {
   "cell_type": "code",
   "execution_count": 77,
   "metadata": {},
   "outputs": [
    {
     "data": {
      "text/plain": [
       "(-3.3753626801025503, 0.0007382108929092947)"
      ]
     },
     "execution_count": 77,
     "metadata": {},
     "output_type": "execute_result"
    }
   ],
   "source": [
    "cont_group2 = fornight_df[fornight_df['test']==0]['revenue'].values\n",
    "exp_group2 = fornight_df[fornight_df['test']==1]['revenue'].values\n",
    "\n",
    "stat2, pvalue2 = ttest_ind(cont_group2, exp_group2, axis=0, equal_var=False)\n",
    "stat2, pvalue2"
   ]
  },
  {
   "cell_type": "code",
   "execution_count": 78,
   "metadata": {},
   "outputs": [
    {
     "name": "stdout",
     "output_type": "stream",
     "text": [
      "Test rejects the null hypothesis\n"
     ]
    }
   ],
   "source": [
    "if pvalue2/2 < alpha:\n",
    "    print('Test rejects the null hypothesis')\n",
    "else:\n",
    "    print('The test fails to reject the null hypothesis')"
   ]
  },
  {
   "cell_type": "markdown",
   "metadata": {},
   "source": [
    "The test rejects the null hypothesis that there is no increase in revenue as a result of the price rise. Thus, we can conclude that with only 2 weeks of data that the increase in price will increase revenue but how about just one week of study? "
   ]
  },
  {
   "cell_type": "code",
   "execution_count": 79,
   "metadata": {},
   "outputs": [],
   "source": [
    "oneweeklater=merged_df.timestamp.min() + timedelta(days=7)"
   ]
  },
  {
   "cell_type": "code",
   "execution_count": 80,
   "metadata": {},
   "outputs": [],
   "source": [
    "# Creates data set of only observations from 2 weeks \n",
    "oneweek_df=merged_df[merged_df['timestamp']<=oneweeklater]"
   ]
  },
  {
   "cell_type": "code",
   "execution_count": 84,
   "metadata": {},
   "outputs": [
    {
     "data": {
      "text/html": [
       "<div>\n",
       "<style scoped>\n",
       "    .dataframe tbody tr th:only-of-type {\n",
       "        vertical-align: middle;\n",
       "    }\n",
       "\n",
       "    .dataframe tbody tr th {\n",
       "        vertical-align: top;\n",
       "    }\n",
       "\n",
       "    .dataframe thead th {\n",
       "        text-align: right;\n",
       "    }\n",
       "</style>\n",
       "<table border=\"1\" class=\"dataframe\">\n",
       "  <thead>\n",
       "    <tr style=\"text-align: right;\">\n",
       "      <th></th>\n",
       "      <th>revenue</th>\n",
       "    </tr>\n",
       "    <tr>\n",
       "      <th>test</th>\n",
       "      <th></th>\n",
       "    </tr>\n",
       "  </thead>\n",
       "  <tbody>\n",
       "    <tr>\n",
       "      <th>0</th>\n",
       "      <td>0.824743</td>\n",
       "    </tr>\n",
       "    <tr>\n",
       "      <th>1</th>\n",
       "      <td>1.010297</td>\n",
       "    </tr>\n",
       "  </tbody>\n",
       "</table>\n",
       "</div>"
      ],
      "text/plain": [
       "       revenue\n",
       "test          \n",
       "0     0.824743\n",
       "1     1.010297"
      ]
     },
     "execution_count": 84,
     "metadata": {},
     "output_type": "execute_result"
    }
   ],
   "source": [
    "# Check the average revenue \n",
    "oneweek_df[['test', 'revenue']].groupby('test').mean()"
   ]
  },
  {
   "cell_type": "code",
   "execution_count": 81,
   "metadata": {},
   "outputs": [
    {
     "data": {
      "text/plain": [
       "(-2.0015745637705282, 0.04534906114298342)"
      ]
     },
     "execution_count": 81,
     "metadata": {},
     "output_type": "execute_result"
    }
   ],
   "source": [
    "cont_group3 = oneweek_df[oneweek_df['test']==0]['revenue'].values\n",
    "exp_group3 = oneweek_df[oneweek_df['test']==1]['revenue'].values\n",
    "\n",
    "stat3, pvalue3 = ttest_ind(cont_group3, exp_group3, axis=0, equal_var=False)\n",
    "stat3, pvalue3"
   ]
  },
  {
   "cell_type": "code",
   "execution_count": 82,
   "metadata": {},
   "outputs": [
    {
     "name": "stdout",
     "output_type": "stream",
     "text": [
      "Test rejects the null hypothesis\n"
     ]
    }
   ],
   "source": [
    "if pvalue3/2 < alpha:\n",
    "    print('Test rejects the null hypothesis')\n",
    "else:\n",
    "    print('The test fails to reject the null hypothesis')"
   ]
  },
  {
   "cell_type": "markdown",
   "metadata": {},
   "source": [
    "The test rejects the null hypothesis that there is no increase in revenue as a result of the price rise. Thus, we can conclude that with only 1 week of data that the increase in price will increase revenue. As a result, I would have stopped the test after only 7 days since we could show a statistically significant increase in average revenue as a result of the price increase in this short period. "
   ]
  },
  {
   "cell_type": "code",
   "execution_count": null,
   "metadata": {},
   "outputs": [],
   "source": []
  }
 ],
 "metadata": {
  "kernelspec": {
   "display_name": "Python 3",
   "language": "python",
   "name": "python3"
  },
  "language_info": {
   "codemirror_mode": {
    "name": "ipython",
    "version": 3
   },
   "file_extension": ".py",
   "mimetype": "text/x-python",
   "name": "python",
   "nbconvert_exporter": "python",
   "pygments_lexer": "ipython3",
   "version": "3.7.6"
  }
 },
 "nbformat": 4,
 "nbformat_minor": 4
}
